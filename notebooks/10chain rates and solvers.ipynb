{
 "cells": [
  {
   "cell_type": "code",
   "execution_count": 1,
   "metadata": {},
   "outputs": [
    {
     "name": "stderr",
     "output_type": "stream",
     "text": [
      "\u001b[32m\u001b[1m Activating\u001b[22m\u001b[39m environment at `~/REPOS/Raven.jl/Project.toml`\n"
     ]
    }
   ],
   "source": [
    "using Revise\n",
    "using Pkg\n",
    "Pkg.activate(\"../\")\n",
    "using Raven"
   ]
  },
  {
   "cell_type": "code",
   "execution_count": 2,
   "metadata": {},
   "outputs": [
    {
     "data": {
      "text/plain": [
       "10×10 SparseArrays.SparseMatrixCSC{Float64,Int64} with 18 stored entries:\n",
       "  [2 ,  1]  =  0.1\n",
       "  [1 ,  2]  =  0.1\n",
       "  [3 ,  2]  =  0.1\n",
       "  [2 ,  3]  =  0.1\n",
       "  [4 ,  3]  =  0.1\n",
       "  [3 ,  4]  =  0.1\n",
       "  [5 ,  4]  =  0.1\n",
       "  [4 ,  5]  =  0.1\n",
       "  [6 ,  5]  =  0.1\n",
       "  [5 ,  6]  =  0.1\n",
       "  [7 ,  6]  =  0.1\n",
       "  [6 ,  7]  =  0.1\n",
       "  [8 ,  7]  =  0.1\n",
       "  [7 ,  8]  =  0.1\n",
       "  [9 ,  8]  =  0.1\n",
       "  [8 ,  9]  =  0.1\n",
       "  [10,  9]  =  0.1\n",
       "  [9 , 10]  =  0.1"
      ]
     },
     "execution_count": 2,
     "metadata": {},
     "output_type": "execute_result"
    }
   ],
   "source": [
    "edges=Raven.readToFeTedges(open(\"../testdata/10chain.edge\",\"r\"))"
   ]
  },
  {
   "cell_type": "code",
   "execution_count": 3,
   "metadata": {},
   "outputs": [
    {
     "data": {
      "text/plain": [
       "\u001b[1m      Sparsity Pattern\u001b[22m\n",
       "\u001b[90m      ┌─────┐\u001b[39m    \n",
       "    \u001b[90m1\u001b[39m\u001b[90m │\u001b[39m\u001b[31m⢔\u001b[39m\u001b[31m⢄\u001b[39m\u001b[0m⠀\u001b[0m⠀\u001b[0m⠀\u001b[90m│\u001b[39m \u001b[31m> 0\u001b[39m\n",
       "     \u001b[90m │\u001b[39m\u001b[0m⠀\u001b[31m⠑\u001b[39m\u001b[31m⢕\u001b[39m\u001b[31m⢄\u001b[39m\u001b[0m⠀\u001b[90m│\u001b[39m \u001b[34m< 0\u001b[39m\n",
       "   \u001b[90m10\u001b[39m\u001b[90m │\u001b[39m\u001b[0m⠀\u001b[0m⠀\u001b[0m⠀\u001b[31m⠑\u001b[39m\u001b[31m⠕\u001b[39m\u001b[90m│\u001b[39m    \n",
       "\u001b[90m      └─────┘\u001b[39m    \n",
       "\u001b[90m      1\u001b[39m\u001b[90m  \u001b[39m\u001b[90m  10\u001b[39m\n",
       "\u001b[0m      nz = 18"
      ]
     },
     "execution_count": 3,
     "metadata": {},
     "output_type": "execute_result"
    }
   ],
   "source": [
    "import UnicodePlots\n",
    "UnicodePlots.spy(edges)\n"
   ]
  },
  {
   "cell_type": "code",
   "execution_count": null,
   "metadata": {},
   "outputs": [],
   "source": []
  },
  {
   "cell_type": "code",
   "execution_count": 4,
   "metadata": {},
   "outputs": [
    {
     "data": {
      "text/plain": [
       "10×10 SparseArrays.SparseMatrixCSC{Float64,Int64} with 28 stored entries:\n",
       "  [1 ,  1]  =  -9.54587e13\n",
       "  [2 ,  1]  =  9.54587e13\n",
       "  [1 ,  2]  =  9.54587e13\n",
       "  [2 ,  2]  =  -1.90917e14\n",
       "  [3 ,  2]  =  9.54587e13\n",
       "  [2 ,  3]  =  9.54587e13\n",
       "  [3 ,  3]  =  -1.90917e14\n",
       "  [4 ,  3]  =  9.54587e13\n",
       "  [3 ,  4]  =  9.54587e13\n",
       "  [4 ,  4]  =  -1.90917e14\n",
       "  [5 ,  4]  =  9.54587e13\n",
       "  [4 ,  5]  =  9.54587e13\n",
       "  ⋮\n",
       "  [6 ,  6]  =  -1.90917e14\n",
       "  [7 ,  6]  =  9.54587e13\n",
       "  [6 ,  7]  =  9.54587e13\n",
       "  [7 ,  7]  =  -1.90917e14\n",
       "  [8 ,  7]  =  9.54587e13\n",
       "  [7 ,  8]  =  9.54587e13\n",
       "  [8 ,  8]  =  -1.90917e14\n",
       "  [9 ,  8]  =  9.54587e13\n",
       "  [8 ,  9]  =  9.54587e13\n",
       "  [9 ,  9]  =  -1.90917e14\n",
       "  [10,  9]  =  9.54587e13\n",
       "  [9 , 10]  =  9.54587e13\n",
       "  [10, 10]  =  -9.54587e13"
      ]
     },
     "execution_count": 4,
     "metadata": {},
     "output_type": "execute_result"
    }
   ],
   "source": [
    "rates=Raven.ratematrix(edges,Raven.rateAdiabatic)"
   ]
  },
  {
   "cell_type": "markdown",
   "metadata": {},
   "source": []
  },
  {
   "cell_type": "code",
   "execution_count": 5,
   "metadata": {},
   "outputs": [
    {
     "data": {
      "text/plain": [
       "LinearAlgebra.SVD{Float64,Float64,Array{Float64,2}}\n",
       "U factor:\n",
       "10×10 Array{Float64,2}:\n",
       " -0.0699596  -0.138197  -0.203031   …   0.425325      0.441708   0.316228\n",
       "  0.203031    0.361803   0.441708       0.262866      0.39847    0.316228\n",
       " -0.316228   -0.447214  -0.316228      -1.11022e-16   0.316228   0.316228\n",
       "  0.39847     0.361803  -0.0699596     -0.262866      0.203031   0.316228\n",
       " -0.441708   -0.138197   0.39847       -0.425325      0.0699596  0.316228\n",
       "  0.441708   -0.138197  -0.39847    …  -0.425325     -0.0699596  0.316228\n",
       " -0.39847     0.361803   0.0699596     -0.262866     -0.203031   0.316228\n",
       "  0.316228   -0.447214   0.316228      -3.17888e-16  -0.316228   0.316228\n",
       " -0.203031    0.361803  -0.441708       0.262866     -0.39847    0.316228\n",
       "  0.0699596  -0.138197   0.203031       0.425325     -0.441708   0.316228\n",
       "singular values:\n",
       "10-element Array{Float64,1}:\n",
       " 3.724905314918553e14\n",
       " 3.4537272297579325e14\n",
       " 3.031357459826044e14\n",
       " 2.4991405010270456e14\n",
       " 1.909173457461779e14\n",
       " 1.3192064138965138e14\n",
       " 7.869894550975145e13\n",
       " 3.646196851656241e13\n",
       " 9.344160000500566e12\n",
       " 0.0068968853281834415\n",
       "Vt factor:\n",
       "10×10 Array{Float64,2}:\n",
       "  0.0699596  -0.203031    0.316228     -0.39847    …   0.203031   -0.0699596\n",
       "  0.138197   -0.361803    0.447214     -0.361803      -0.361803    0.138197\n",
       "  0.203031   -0.441708    0.316228      0.0699596      0.441708   -0.203031\n",
       " -0.262866    0.425325    5.55112e-17  -0.425325       0.425325   -0.262866\n",
       " -0.316228    0.316228    0.316228     -0.316228      -0.316228    0.316228\n",
       " -0.361803    0.138197    0.447214      0.138197   …   0.138197   -0.361803\n",
       " -0.39847    -0.0699596   0.316228      0.441708       0.0699596   0.39847\n",
       " -0.425325   -0.262866    2.63678e-16   0.262866      -0.262866   -0.425325\n",
       " -0.441708   -0.39847    -0.316228     -0.203031       0.39847     0.441708\n",
       " -0.316228   -0.316228   -0.316228     -0.316228      -0.316228   -0.316228"
      ]
     },
     "execution_count": 5,
     "metadata": {},
     "output_type": "execute_result"
    }
   ],
   "source": [
    "# OK, let's look at the SVD (dense) method, as a reference\n",
    "SVD=Raven.solveMasterDense(rates)"
   ]
  },
  {
   "cell_type": "code",
   "execution_count": 6,
   "metadata": {},
   "outputs": [
    {
     "data": {
      "text/plain": [
       "10-element Array{Float64,1}:\n",
       " -0.3162277660168386\n",
       " -0.31622776601683855\n",
       " -0.316227766016838\n",
       " -0.31622776601683744\n",
       " -0.3162277660168371\n",
       " -0.31622776601683744\n",
       " -0.3162277660168376\n",
       " -0.31622776601683755\n",
       " -0.3162277660168379\n",
       " -0.31622776601683805"
      ]
     },
     "execution_count": 6,
     "metadata": {},
     "output_type": "execute_result"
    }
   ],
   "source": [
    "# Fiddle till we extract the value we want: the very small singular values, and their right vectors Vt\n",
    "ρ=SVD.Vt[10,:]"
   ]
  },
  {
   "cell_type": "code",
   "execution_count": 7,
   "metadata": {},
   "outputs": [
    {
     "data": {
      "text/plain": [
       "3.162277660168378"
      ]
     },
     "execution_count": 7,
     "metadata": {},
     "output_type": "execute_result"
    }
   ],
   "source": [
    "sum(abs.(ρ))"
   ]
  },
  {
   "cell_type": "code",
   "execution_count": 8,
   "metadata": {},
   "outputs": [],
   "source": [
    "using IterativeSolvers"
   ]
  },
  {
   "cell_type": "code",
   "execution_count": 108,
   "metadata": {},
   "outputs": [
    {
     "data": {
      "text/plain": [
       "10×10 SparseArrays.SparseMatrixCSC{Float64,Int64} with 28 stored entries:\n",
       "  [1 ,  1]  =  -0.063536\n",
       "  [2 ,  1]  =  23.631\n",
       "  [1 ,  2]  =  0.063536\n",
       "  [2 ,  2]  =  -29.2449\n",
       "  [3 ,  2]  =  4.58574\n",
       "  [2 ,  3]  =  5.61386\n",
       "  [3 ,  3]  =  -27.3396\n",
       "  [4 ,  3]  =  0.0178524\n",
       "  [3 ,  4]  =  22.7538\n",
       "  [4 ,  4]  =  -18.9605\n",
       "  [5 ,  4]  =  0.00384622\n",
       "  [4 ,  5]  =  18.9427\n",
       "  ⋮\n",
       "  [6 ,  6]  =  -12.8964\n",
       "  [7 ,  6]  =  1.32248\n",
       "  [6 ,  7]  =  6.12213e-7\n",
       "  [7 ,  7]  =  -1.32248\n",
       "  [8 ,  7]  =  2.67453e-30\n",
       "  [7 ,  8]  =  8.83518e-15\n",
       "  [8 ,  8]  =  -0.00347557\n",
       "  [9 ,  8]  =  18.6334\n",
       "  [8 ,  9]  =  0.00347557\n",
       "  [9 ,  9]  =  -18.6334\n",
       "  [10,  9]  =  0.129287\n",
       "  [9 , 10]  =  3.29896e-9\n",
       "  [10, 10]  =  -0.129287"
      ]
     },
     "execution_count": 108,
     "metadata": {},
     "output_type": "execute_result"
    }
   ],
   "source": [
    "siteE=randn(10)./1\n",
    "rates=Raven.ratematrix(edges,siteE,Raven.rateMarcus)/1e13\n",
    "#rates=Raven.ratematrix(edges,Raven.rateAdiabatic)/1E13\n",
    "rates"
   ]
  },
  {
   "cell_type": "code",
   "execution_count": 109,
   "metadata": {},
   "outputs": [
    {
     "data": {
      "text/plain": [
       "10×10 Array{Float64,2}:\n",
       "      2.795e11          -3.95384e11   …        1.04172e-20  -1.02884e-30\n",
       "     -1.47056e14         2.08027e14           -5.48552e-18   5.41951e-28\n",
       "      1.10087e14        -1.55735e14            4.1264e-18   -4.08451e-28\n",
       "     -1.35244e11         1.9133e11            -5.63669e-21   5.93351e-31\n",
       "      1.55322e7         -2.19739e7             3.88951e-23  -6.85394e-33\n",
       "     -9.72323e6          1.37568e7    …       -1.25114e-18   2.22313e-28\n",
       " 399624.0          -565439.0                   1.18127e-11  -2.10559e-21\n",
       "     -3.19096e-26        4.51538e-26      -23149.4           4.12636e-6\n",
       "      3.9939e-26        -5.65462e-26           1.2411e8     -0.0221224\n",
       "     -1.54587e-28        2.18939e-28     -866981.0           1.13817"
      ]
     },
     "execution_count": 109,
     "metadata": {},
     "output_type": "execute_result"
    }
   ],
   "source": [
    "exp(collect(-rates))"
   ]
  },
  {
   "cell_type": "code",
   "execution_count": 110,
   "metadata": {},
   "outputs": [
    {
     "data": {
      "text/plain": [
       "10-element Array{Float64,1}:\n",
       " -0.049632867575019404\n",
       "  0.4310635766397972\n",
       "  0.41463455320756937\n",
       " -0.16609144163282313\n",
       " -0.8566001677950934\n",
       " -0.04236498835138833\n",
       "  1.1422333316571767\n",
       " -1.759934596555404\n",
       " -1.062532953662289\n",
       "  0.3574503007891717"
      ]
     },
     "execution_count": 110,
     "metadata": {},
     "output_type": "execute_result"
    }
   ],
   "source": [
    "siteE"
   ]
  },
  {
   "cell_type": "code",
   "execution_count": 111,
   "metadata": {},
   "outputs": [
    {
     "data": {
      "text/plain": [
       "10×10 SparseArrays.SparseMatrixCSC{Float64,Int64} with 28 stored entries:\n",
       "  [1 ,  1]  =  -0.063536\n",
       "  [2 ,  1]  =  23.631\n",
       "  [1 ,  2]  =  0.063536\n",
       "  [2 ,  2]  =  -29.2449\n",
       "  [3 ,  2]  =  4.58574\n",
       "  [2 ,  3]  =  5.61386\n",
       "  [3 ,  3]  =  -27.3396\n",
       "  [4 ,  3]  =  0.0178524\n",
       "  [3 ,  4]  =  22.7538\n",
       "  [4 ,  4]  =  -18.9605\n",
       "  [5 ,  4]  =  0.00384622\n",
       "  [4 ,  5]  =  18.9427\n",
       "  ⋮\n",
       "  [6 ,  6]  =  -12.8964\n",
       "  [7 ,  6]  =  1.32248\n",
       "  [6 ,  7]  =  6.12213e-7\n",
       "  [7 ,  7]  =  -1.32248\n",
       "  [8 ,  7]  =  2.67453e-30\n",
       "  [7 ,  8]  =  8.83518e-15\n",
       "  [8 ,  8]  =  -0.00347557\n",
       "  [9 ,  8]  =  18.6334\n",
       "  [8 ,  9]  =  0.00347557\n",
       "  [9 ,  9]  =  -18.6334\n",
       "  [10,  9]  =  0.129287\n",
       "  [9 , 10]  =  3.29896e-9\n",
       "  [10, 10]  =  -0.129287"
      ]
     },
     "execution_count": 111,
     "metadata": {},
     "output_type": "execute_result"
    }
   ],
   "source": [
    "rates"
   ]
  },
  {
   "cell_type": "code",
   "execution_count": 112,
   "metadata": {},
   "outputs": [
    {
     "ename": "LinearAlgebra.PosDefException",
     "evalue": "PosDefException: matrix is not positive definite; Cholesky factorization failed.",
     "output_type": "error",
     "traceback": [
      "PosDefException: matrix is not positive definite; Cholesky factorization failed.",
      "",
      "Stacktrace:",
      " [1] chkposdef at /buildworker/worker/package_linux64/build/usr/share/julia/stdlib/v1.4/LinearAlgebra/src/lapack.jl:50 [inlined]",
      " [2] sygvd!(::Int64, ::Char, ::Char, ::SubArray{Float64,2,Array{Float64,2},Tuple{UnitRange{Int64},UnitRange{Int64}},false}, ::SubArray{Float64,2,Array{Float64,2},Tuple{UnitRange{Int64},UnitRange{Int64}},false}) at /buildworker/worker/package_linux64/build/usr/share/julia/stdlib/v1.4/LinearAlgebra/src/lapack.jl:5140",
      " [3] #eigen!#105 at /buildworker/worker/package_linux64/build/usr/share/julia/stdlib/v1.4/LinearAlgebra/src/symmetric.jl:809 [inlined]",
      " [4] eigen! at /buildworker/worker/package_linux64/build/usr/share/julia/stdlib/v1.4/LinearAlgebra/src/symmetric.jl:809 [inlined]",
      " [5] sub_problem!(::LOBPCGIterator{false,Float64,SparseArrays.SparseMatrixCSC{Float64,Int64},Nothing,Array{Float64,1},Array{Float64,1},Array{Int64,1},Array{Float64,2},IterativeSolvers.Blocks{false,Float64,Array{Float64,2}},IterativeSolvers.CholQR{Array{Float64,2}},IterativeSolvers.RPreconditioner{Nothing,Float64,Array{Float64,2}},IterativeSolvers.Constraint{Nothing,Array{Nothing,2},Array{Nothing,2},Nothing},IterativeSolvers.BlockGram{false,Array{Float64,2}},Array{Bool,1},Array{IterativeSolvers.LOBPCGState{Array{Float64,1},Array{Float64,1}},1}}, ::Int64, ::Int64, ::Int64) at /home/jarvist/.julia/packages/IterativeSolvers/3g7hG/src/lobpcg.jl:620",
      " [6] (::LOBPCGIterator{false,Float64,SparseArrays.SparseMatrixCSC{Float64,Int64},Nothing,Array{Float64,1},Array{Float64,1},Array{Int64,1},Array{Float64,2},IterativeSolvers.Blocks{false,Float64,Array{Float64,2}},IterativeSolvers.CholQR{Array{Float64,2}},IterativeSolvers.RPreconditioner{Nothing,Float64,Array{Float64,2}},IterativeSolvers.Constraint{Nothing,Array{Nothing,2},Array{Nothing,2},Nothing},IterativeSolvers.BlockGram{false,Array{Float64,2}},Array{Bool,1},Array{IterativeSolvers.LOBPCGState{Array{Float64,1},Array{Float64,1}},1}})(::Float64, ::Bool) at /home/jarvist/.julia/packages/IterativeSolvers/3g7hG/src/lobpcg.jl:737",
      " [7] lobpcg!(::LOBPCGIterator{false,Float64,SparseArrays.SparseMatrixCSC{Float64,Int64},Nothing,Array{Float64,1},Array{Float64,1},Array{Int64,1},Array{Float64,2},IterativeSolvers.Blocks{false,Float64,Array{Float64,2}},IterativeSolvers.CholQR{Array{Float64,2}},IterativeSolvers.RPreconditioner{Nothing,Float64,Array{Float64,2}},IterativeSolvers.Constraint{Nothing,Array{Nothing,2},Array{Nothing,2},Nothing},IterativeSolvers.BlockGram{false,Array{Float64,2}},Array{Bool,1},Array{IterativeSolvers.LOBPCGState{Array{Float64,1},Array{Float64,1}},1}}; log::Bool, maxiter::Int64, not_zeros::Bool, tol::Float64) at /home/jarvist/.julia/packages/IterativeSolvers/3g7hG/src/lobpcg.jl:881",
      " [8] #lobpcg#56 at /home/jarvist/.julia/packages/IterativeSolvers/3g7hG/src/lobpcg.jl:838 [inlined]",
      " [9] #lobpcg#54 at /home/jarvist/.julia/packages/IterativeSolvers/3g7hG/src/lobpcg.jl:791 [inlined]",
      " [10] lobpcg at /home/jarvist/.julia/packages/IterativeSolvers/3g7hG/src/lobpcg.jl:791 [inlined]",
      " [11] #lobpcg#53 at /home/jarvist/.julia/packages/IterativeSolvers/3g7hG/src/lobpcg.jl:788 [inlined]",
      " [12] lobpcg(::SparseArrays.SparseMatrixCSC{Float64,Int64}, ::Bool, ::Int64) at /home/jarvist/.julia/packages/IterativeSolvers/3g7hG/src/lobpcg.jl:788",
      " [13] top-level scope at In[112]:1"
     ]
    }
   ],
   "source": [
    "r=IterativeSolvers.lobpcg(rates,  true, 1)"
   ]
  },
  {
   "cell_type": "code",
   "execution_count": 107,
   "metadata": {},
   "outputs": [
    {
     "data": {
      "text/plain": [
       "10×1 Array{Float64,2}:\n",
       "  0.23510382540272923\n",
       "  0.021724810814724757\n",
       " -0.06824274739080707\n",
       "  1.0708045455879314\n",
       " -0.8602747543496092\n",
       "  0.40214387313832717\n",
       "  0.337654353092406\n",
       " -0.7853785232395075\n",
       "  0.6735118665612476\n",
       " -0.02704724961744243"
      ]
     },
     "execution_count": 107,
     "metadata": {},
     "output_type": "execute_result"
    }
   ],
   "source": [
    "r.X/sum(r.X)"
   ]
  },
  {
   "cell_type": "code",
   "execution_count": 98,
   "metadata": {},
   "outputs": [
    {
     "data": {
      "text/plain": [
       "10×1 Array{Float64,2}:\n",
       " 9.382582098782643e-25\n",
       " 1.8912998217590035e-24\n",
       " 3.890035129831653e-24\n",
       " 6.731742653549812e-24\n",
       " 9.375966908443555e-24\n",
       " 1.1706606049401429e-23\n",
       " 1.4352131760717098e-23\n",
       " 1.6781485144257016e-23\n",
       " 1.853744607891064e-23\n",
       " 1.9608413540623544e-23"
      ]
     },
     "execution_count": 98,
     "metadata": {},
     "output_type": "execute_result"
    }
   ],
   "source": [
    "# check stationary condition\n",
    "exp(collect(rates)) * r.X"
   ]
  },
  {
   "cell_type": "code",
   "execution_count": 69,
   "metadata": {},
   "outputs": [
    {
     "data": {
      "text/plain": [
       "10-element Array{Float64,1}:\n",
       " 0.0\n",
       " 0.0\n",
       " 0.0\n",
       " 0.0\n",
       " 0.0\n",
       " 0.0\n",
       " 0.0\n",
       " 0.0\n",
       " 0.0\n",
       " 0.0"
      ]
     },
     "execution_count": 69,
     "metadata": {},
     "output_type": "execute_result"
    }
   ],
   "source": [
    "# Chebyshev method, which enables you to declare the region of eigenvalue interest\n",
    "IterativeSolvers.chebyshev(rates,zeros(rates.m),0.0,1)"
   ]
  },
  {
   "cell_type": "code",
   "execution_count": 78,
   "metadata": {},
   "outputs": [
    {
     "name": "stdout",
     "output_type": "stream",
     "text": [
      "λ = -34.95339790830564 - 5.551115123125783e-17im\n"
     ]
    },
    {
     "data": {
      "text/plain": [
       "10-element Array{Complex{Float64},1}:\n",
       "  0.05040689912504277 + 0.13946036732792688im\n",
       " -0.11388758072823192 - 0.3724398110980073im\n",
       "   0.1056936497413206 + 0.48474643237552567im\n",
       " -0.06609820100278006 - 0.44563174414292084im\n",
       "  0.06190747030406556 + 0.2775403707334943im\n",
       " -0.11571008296375589 - 0.04671233894994546im\n",
       "  0.18802821961466487 - 0.16020808357474012im\n",
       " -0.21856803006745967 + 0.2671661661696742im\n",
       "  0.17460683468395108 - 0.2383455001185307im\n",
       " -0.06637917870681732 + 0.09442414127752329im"
      ]
     },
     "execution_count": 78,
     "metadata": {},
     "output_type": "execute_result"
    }
   ],
   "source": [
    "# Power method approach to getting the dominant eigenvalue\n",
    "λ,x=IterativeSolvers.powm(rates,shift=0) #, shift=0.0)\n",
    "\n",
    "@show λ\n",
    "x"
   ]
  },
  {
   "cell_type": "code",
   "execution_count": 73,
   "metadata": {},
   "outputs": [
    {
     "name": "stdout",
     "output_type": "stream",
     "text": [
      "Σ.S = [37.23745620468033]\n",
      "Σ.Vt = [0.07479892281886896 -0.21985565528051323 0.33180144319311183 -0.4175721111828822 0.44263771431722954 -0.4393647928098618 0.38066236193913094 -0.2966388352969385 0.19015299814860084 -0.059864712798223224]\n"
     ]
    },
    {
     "data": {
      "text/plain": [
       "IterativeSolvers.PartialFactorization{Float64,Float64}([-0.07777663511711061 0.1109756025003652; 0.22399277958248492 -0.34858820073339214; … ; -0.1807968643956677 -0.40176247435746615; 0.06179633809897178 0.1141252769457311], [0.07914328029742114 -0.1576862451821319 -0.0029734595172833107; -0.22425545307605385 0.15772666810706673 0.35533141373452715; … ; 0.17724998138899975 0.4739801558342976 0.011738124906875277; -0.06381124063630692 0.14335693375969832 -0.4235971622043112], [37.23745620468033 0.4213661743419432; 0.0 27.426408918524483], 20.907509978587186)"
      ]
     },
     "execution_count": 73,
     "metadata": {},
     "output_type": "execute_result"
    }
   ],
   "source": [
    "# partial SVD factorisation using the pseudo-inverse\n",
    "Σ,L=IterativeSolvers.svdl(rates, nsv=1, vecs=:right)\n",
    "@show Σ.S\n",
    "@show Σ.Vt\n",
    "L"
   ]
  },
  {
   "cell_type": "code",
   "execution_count": 74,
   "metadata": {},
   "outputs": [
    {
     "data": {
      "text/plain": [
       "10-element SparseArrays.SparseVector{Float64,Int64} with 0 stored entries"
      ]
     },
     "execution_count": 74,
     "metadata": {},
     "output_type": "execute_result"
    }
   ],
   "source": [
    "Raven.solveMasterCG(rates)"
   ]
  },
  {
   "cell_type": "code",
   "execution_count": null,
   "metadata": {},
   "outputs": [],
   "source": [
    "import DelimitedFiles\n",
    "raw=DelimitedFiles.readdlm(open(\"../testdata/10chain.xyz\",\"r\"))"
   ]
  },
  {
   "cell_type": "code",
   "execution_count": null,
   "metadata": {},
   "outputs": [],
   "source": [
    "XYZ=raw[:,1:3]"
   ]
  },
  {
   "cell_type": "code",
   "execution_count": null,
   "metadata": {},
   "outputs": [],
   "source": [
    "xyz=Raven.readToFeTxyz(open(\"../testdata/10chain.xyz\",\"r\"))"
   ]
  },
  {
   "cell_type": "code",
   "execution_count": null,
   "metadata": {},
   "outputs": [],
   "source": [
    "\"Single iteration of Yu's power iterative method to solve master equation. Needs a bare ratematrix.\"\n",
    "function YuPRBpowm!(ω, P)\n",
    "    for i in eachindex(P)\n",
    "        P[i] = sum(ω[i,:] .* P[:]) / sum(ω[:,i]) / (1 - sum( (ω[:,i].-ω[i,:]) .* P[:])/sum(ω[:,i]) ) \n",
    "    end\n",
    "    P\n",
    "end"
   ]
  },
  {
   "cell_type": "code",
   "execution_count": null,
   "metadata": {},
   "outputs": [],
   "source": [
    "rates=Raven.bareratematrix(edges,Raven.rateMarcus)"
   ]
  },
  {
   "cell_type": "code",
   "execution_count": null,
   "metadata": {},
   "outputs": [],
   "source": [
    "P=vcat(ones(1),zeros(9))\n",
    "\n",
    "for i in 1:50\n",
    "    Pold=copy(P)\n",
    "    Raven.YuPRBpowm!(rates,P)\n",
    "    P=0.6*P + 0.4*Pold\n",
    "    @show P\n",
    "end\n",
    "sum(P)"
   ]
  },
  {
   "cell_type": "code",
   "execution_count": null,
   "metadata": {},
   "outputs": [],
   "source": [
    "\n",
    "for i in 1:100\n",
    "    Raven.YuPRBpowm!(rates,P)\n",
    "    @show P\n",
    "end\n"
   ]
  },
  {
   "cell_type": "code",
   "execution_count": null,
   "metadata": {},
   "outputs": [],
   "source": [
    "ω=rates/sum(rates)\n",
    "i=1\n",
    "ω[i,:] .* P[:]"
   ]
  },
  {
   "cell_type": "code",
   "execution_count": null,
   "metadata": {},
   "outputs": [],
   "source": [
    "1 - sum( (ω[:,i].-ω[i,:]) .* P[:])"
   ]
  },
  {
   "cell_type": "code",
   "execution_count": null,
   "metadata": {},
   "outputs": [],
   "source": [
    "rates[2,:]"
   ]
  },
  {
   "cell_type": "code",
   "execution_count": null,
   "metadata": {},
   "outputs": [],
   "source": [
    "P=vcat(zeros(8),ones(2))\n",
    "c=0\n",
    "while true\n",
    "    c=c+1\n",
    "    Pold=copy(P)\n",
    "    Raven.YuPRBpowm!(rates,P)\n",
    "    \n",
    "    @show P\n",
    "    if sum(abs.(P-Pold))<0.0001 \n",
    "        break\n",
    "    end\n",
    "end\n",
    "return c\n",
    "\n"
   ]
  },
  {
   "cell_type": "code",
   "execution_count": null,
   "metadata": {},
   "outputs": [],
   "source": [
    "function YuPRBpowm_converge!(rates,P; eps=0.0001)\n",
    "    c=0\n",
    "    while true\n",
    "        c=c+1\n",
    "        Pold=copy(P)\n",
    "        Raven.YuPRBpowm!(rates,P)\n",
    "    \n",
    "        @show P\n",
    "        if sum(abs.(P-Pold))<eps\n",
    "            break\n",
    "        end\n",
    "    end\n",
    "    return c\n",
    "end"
   ]
  },
  {
   "cell_type": "code",
   "execution_count": null,
   "metadata": {},
   "outputs": [],
   "source": [
    "P=vcat(zeros(8),ones(2))\n",
    "@time YuPRBpowm_converge!(rates,P)"
   ]
  },
  {
   "cell_type": "code",
   "execution_count": null,
   "metadata": {},
   "outputs": [],
   "source": [
    "@time YuPRBpowm!(rates,P)"
   ]
  },
  {
   "cell_type": "code",
   "execution_count": null,
   "metadata": {},
   "outputs": [],
   "source": [
    "P=vcat(zeros(8),ones(2))\n",
    "@time YuPRBpowm_converge!(rates,P)"
   ]
  },
  {
   "cell_type": "code",
   "execution_count": null,
   "metadata": {},
   "outputs": [],
   "source": [
    "@code_warntype YuPRBpowm_converge!(rates,P)"
   ]
  },
  {
   "cell_type": "code",
   "execution_count": null,
   "metadata": {},
   "outputs": [],
   "source": [
    "@code_warntype YuPRBpowm!(rates,P)"
   ]
  },
  {
   "cell_type": "code",
   "execution_count": null,
   "metadata": {},
   "outputs": [],
   "source": []
  }
 ],
 "metadata": {
  "kernelspec": {
   "display_name": "Julia 1.4.2",
   "language": "julia",
   "name": "julia-1.4"
  },
  "language_info": {
   "file_extension": ".jl",
   "mimetype": "application/julia",
   "name": "julia",
   "version": "1.4.2"
  }
 },
 "nbformat": 4,
 "nbformat_minor": 2
}
