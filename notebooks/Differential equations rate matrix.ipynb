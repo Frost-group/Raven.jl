{
 "cells": [
  {
   "cell_type": "code",
   "execution_count": 1,
   "metadata": {},
   "outputs": [],
   "source": [
    "using DifferentialEquations\n",
    "using DiffEqBiological, DiffEqJump"
   ]
  },
  {
   "cell_type": "code",
   "execution_count": 2,
   "metadata": {},
   "outputs": [
    {
     "name": "stderr",
     "output_type": "stream",
     "text": [
      "\u001b[32m\u001b[1m Activating\u001b[22m\u001b[39m environment at `~/REPOS/Raven.jl/Project.toml`\n"
     ]
    }
   ],
   "source": [
    "using Revise\n",
    "using Pkg\n",
    "Pkg.activate(\"../\")\n",
    "using Raven"
   ]
  },
  {
   "cell_type": "code",
   "execution_count": 3,
   "metadata": {},
   "outputs": [
    {
     "data": {
      "text/plain": [
       "12500×12500 SparseArrays.SparseMatrixCSC{Float64,Int64} with 64950 stored entries:\n",
       "  [2    ,     1]  =  0.1\n",
       "  [6    ,     1]  =  0.1\n",
       "  [26   ,     1]  =  0.1\n",
       "  [1    ,     2]  =  0.1\n",
       "  [3    ,     2]  =  0.1\n",
       "  [7    ,     2]  =  0.1\n",
       "  [27   ,     2]  =  0.1\n",
       "  [2    ,     3]  =  0.1\n",
       "  [4    ,     3]  =  0.1\n",
       "  [8    ,     3]  =  0.1\n",
       "  [28   ,     3]  =  0.1\n",
       "  [3    ,     4]  =  0.1\n",
       "  ⋮\n",
       "  [12496, 12497]  =  0.1\n",
       "  [12498, 12497]  =  0.1\n",
       "  [12473, 12498]  =  0.1\n",
       "  [12493, 12498]  =  0.1\n",
       "  [12497, 12498]  =  0.1\n",
       "  [12499, 12498]  =  0.1\n",
       "  [12474, 12499]  =  0.1\n",
       "  [12494, 12499]  =  0.1\n",
       "  [12498, 12499]  =  0.1\n",
       "  [12500, 12499]  =  0.1\n",
       "  [12475, 12500]  =  0.1\n",
       "  [12495, 12500]  =  0.1\n",
       "  [12499, 12500]  =  0.1"
      ]
     },
     "execution_count": 3,
     "metadata": {},
     "output_type": "execute_result"
    }
   ],
   "source": [
    "#edges=Raven.readToFeTedges(open(\"../testdata/10chain.edge\",\"r\"))\n",
    "edges=Raven.readToFeTedges(open(\"../testdata/scl.edge\",\"r\"))"
   ]
  },
  {
   "cell_type": "code",
   "execution_count": 4,
   "metadata": {},
   "outputs": [
    {
     "data": {
      "text/plain": [
       "\u001b[1m                      Sparsity Pattern\u001b[22m\n",
       "\u001b[90m         ┌──────────────────────────────────────────┐\u001b[39m    \n",
       "       \u001b[90m1\u001b[39m\u001b[90m │\u001b[39m\u001b[31m⠻\u001b[39m\u001b[31m⣦\u001b[39m\u001b[31m⡀\u001b[39m\u001b[0m⠀\u001b[0m⠀\u001b[0m⠀\u001b[0m⠀\u001b[0m⠀\u001b[0m⠀\u001b[0m⠀\u001b[0m⠀\u001b[0m⠀\u001b[0m⠀\u001b[0m⠀\u001b[0m⠀\u001b[0m⠀\u001b[0m⠀\u001b[0m⠀\u001b[0m⠀\u001b[0m⠀\u001b[0m⠀\u001b[0m⠀\u001b[0m⠀\u001b[0m⠀\u001b[0m⠀\u001b[0m⠀\u001b[0m⠀\u001b[0m⠀\u001b[0m⠀\u001b[0m⠀\u001b[0m⠀\u001b[0m⠀\u001b[0m⠀\u001b[0m⠀\u001b[0m⠀\u001b[0m⠀\u001b[0m⠀\u001b[0m⠀\u001b[0m⠀\u001b[0m⠀\u001b[0m⠀\u001b[0m⠀\u001b[90m│\u001b[39m \u001b[31m> 0\u001b[39m\n",
       "        \u001b[90m │\u001b[39m\u001b[0m⠀\u001b[31m⠈\u001b[39m\u001b[31m⠻\u001b[39m\u001b[31m⣦\u001b[39m\u001b[31m⡀\u001b[39m\u001b[0m⠀\u001b[0m⠀\u001b[0m⠀\u001b[0m⠀\u001b[0m⠀\u001b[0m⠀\u001b[0m⠀\u001b[0m⠀\u001b[0m⠀\u001b[0m⠀\u001b[0m⠀\u001b[0m⠀\u001b[0m⠀\u001b[0m⠀\u001b[0m⠀\u001b[0m⠀\u001b[0m⠀\u001b[0m⠀\u001b[0m⠀\u001b[0m⠀\u001b[0m⠀\u001b[0m⠀\u001b[0m⠀\u001b[0m⠀\u001b[0m⠀\u001b[0m⠀\u001b[0m⠀\u001b[0m⠀\u001b[0m⠀\u001b[0m⠀\u001b[0m⠀\u001b[0m⠀\u001b[0m⠀\u001b[0m⠀\u001b[0m⠀\u001b[0m⠀\u001b[0m⠀\u001b[90m│\u001b[39m \u001b[34m< 0\u001b[39m\n",
       "        \u001b[90m │\u001b[39m\u001b[0m⠀\u001b[0m⠀\u001b[0m⠀\u001b[31m⠈\u001b[39m\u001b[31m⠻\u001b[39m\u001b[31m⣦\u001b[39m\u001b[31m⡀\u001b[39m\u001b[0m⠀\u001b[0m⠀\u001b[0m⠀\u001b[0m⠀\u001b[0m⠀\u001b[0m⠀\u001b[0m⠀\u001b[0m⠀\u001b[0m⠀\u001b[0m⠀\u001b[0m⠀\u001b[0m⠀\u001b[0m⠀\u001b[0m⠀\u001b[0m⠀\u001b[0m⠀\u001b[0m⠀\u001b[0m⠀\u001b[0m⠀\u001b[0m⠀\u001b[0m⠀\u001b[0m⠀\u001b[0m⠀\u001b[0m⠀\u001b[0m⠀\u001b[0m⠀\u001b[0m⠀\u001b[0m⠀\u001b[0m⠀\u001b[0m⠀\u001b[0m⠀\u001b[0m⠀\u001b[0m⠀\u001b[0m⠀\u001b[0m⠀\u001b[90m│\u001b[39m    \n",
       "        \u001b[90m │\u001b[39m\u001b[0m⠀\u001b[0m⠀\u001b[0m⠀\u001b[0m⠀\u001b[0m⠀\u001b[31m⠈\u001b[39m\u001b[31m⠻\u001b[39m\u001b[31m⣦\u001b[39m\u001b[31m⡀\u001b[39m\u001b[0m⠀\u001b[0m⠀\u001b[0m⠀\u001b[0m⠀\u001b[0m⠀\u001b[0m⠀\u001b[0m⠀\u001b[0m⠀\u001b[0m⠀\u001b[0m⠀\u001b[0m⠀\u001b[0m⠀\u001b[0m⠀\u001b[0m⠀\u001b[0m⠀\u001b[0m⠀\u001b[0m⠀\u001b[0m⠀\u001b[0m⠀\u001b[0m⠀\u001b[0m⠀\u001b[0m⠀\u001b[0m⠀\u001b[0m⠀\u001b[0m⠀\u001b[0m⠀\u001b[0m⠀\u001b[0m⠀\u001b[0m⠀\u001b[0m⠀\u001b[0m⠀\u001b[0m⠀\u001b[0m⠀\u001b[90m│\u001b[39m    \n",
       "        \u001b[90m │\u001b[39m\u001b[0m⠀\u001b[0m⠀\u001b[0m⠀\u001b[0m⠀\u001b[0m⠀\u001b[0m⠀\u001b[0m⠀\u001b[31m⠈\u001b[39m\u001b[31m⠻\u001b[39m\u001b[31m⣦\u001b[39m\u001b[31m⡀\u001b[39m\u001b[0m⠀\u001b[0m⠀\u001b[0m⠀\u001b[0m⠀\u001b[0m⠀\u001b[0m⠀\u001b[0m⠀\u001b[0m⠀\u001b[0m⠀\u001b[0m⠀\u001b[0m⠀\u001b[0m⠀\u001b[0m⠀\u001b[0m⠀\u001b[0m⠀\u001b[0m⠀\u001b[0m⠀\u001b[0m⠀\u001b[0m⠀\u001b[0m⠀\u001b[0m⠀\u001b[0m⠀\u001b[0m⠀\u001b[0m⠀\u001b[0m⠀\u001b[0m⠀\u001b[0m⠀\u001b[0m⠀\u001b[0m⠀\u001b[0m⠀\u001b[0m⠀\u001b[90m│\u001b[39m    \n",
       "        \u001b[90m │\u001b[39m\u001b[0m⠀\u001b[0m⠀\u001b[0m⠀\u001b[0m⠀\u001b[0m⠀\u001b[0m⠀\u001b[0m⠀\u001b[0m⠀\u001b[0m⠀\u001b[31m⠈\u001b[39m\u001b[31m⠻\u001b[39m\u001b[31m⣦\u001b[39m\u001b[31m⡀\u001b[39m\u001b[0m⠀\u001b[0m⠀\u001b[0m⠀\u001b[0m⠀\u001b[0m⠀\u001b[0m⠀\u001b[0m⠀\u001b[0m⠀\u001b[0m⠀\u001b[0m⠀\u001b[0m⠀\u001b[0m⠀\u001b[0m⠀\u001b[0m⠀\u001b[0m⠀\u001b[0m⠀\u001b[0m⠀\u001b[0m⠀\u001b[0m⠀\u001b[0m⠀\u001b[0m⠀\u001b[0m⠀\u001b[0m⠀\u001b[0m⠀\u001b[0m⠀\u001b[0m⠀\u001b[0m⠀\u001b[0m⠀\u001b[0m⠀\u001b[90m│\u001b[39m    \n",
       "        \u001b[90m │\u001b[39m\u001b[0m⠀\u001b[0m⠀\u001b[0m⠀\u001b[0m⠀\u001b[0m⠀\u001b[0m⠀\u001b[0m⠀\u001b[0m⠀\u001b[0m⠀\u001b[0m⠀\u001b[0m⠀\u001b[31m⠈\u001b[39m\u001b[31m⠻\u001b[39m\u001b[31m⣦\u001b[39m\u001b[31m⡀\u001b[39m\u001b[0m⠀\u001b[0m⠀\u001b[0m⠀\u001b[0m⠀\u001b[0m⠀\u001b[0m⠀\u001b[0m⠀\u001b[0m⠀\u001b[0m⠀\u001b[0m⠀\u001b[0m⠀\u001b[0m⠀\u001b[0m⠀\u001b[0m⠀\u001b[0m⠀\u001b[0m⠀\u001b[0m⠀\u001b[0m⠀\u001b[0m⠀\u001b[0m⠀\u001b[0m⠀\u001b[0m⠀\u001b[0m⠀\u001b[0m⠀\u001b[0m⠀\u001b[0m⠀\u001b[0m⠀\u001b[90m│\u001b[39m    \n",
       "        \u001b[90m │\u001b[39m\u001b[0m⠀\u001b[0m⠀\u001b[0m⠀\u001b[0m⠀\u001b[0m⠀\u001b[0m⠀\u001b[0m⠀\u001b[0m⠀\u001b[0m⠀\u001b[0m⠀\u001b[0m⠀\u001b[0m⠀\u001b[0m⠀\u001b[31m⠈\u001b[39m\u001b[31m⠻\u001b[39m\u001b[31m⣦\u001b[39m\u001b[31m⡀\u001b[39m\u001b[0m⠀\u001b[0m⠀\u001b[0m⠀\u001b[0m⠀\u001b[0m⠀\u001b[0m⠀\u001b[0m⠀\u001b[0m⠀\u001b[0m⠀\u001b[0m⠀\u001b[0m⠀\u001b[0m⠀\u001b[0m⠀\u001b[0m⠀\u001b[0m⠀\u001b[0m⠀\u001b[0m⠀\u001b[0m⠀\u001b[0m⠀\u001b[0m⠀\u001b[0m⠀\u001b[0m⠀\u001b[0m⠀\u001b[0m⠀\u001b[0m⠀\u001b[90m│\u001b[39m    \n",
       "        \u001b[90m │\u001b[39m\u001b[0m⠀\u001b[0m⠀\u001b[0m⠀\u001b[0m⠀\u001b[0m⠀\u001b[0m⠀\u001b[0m⠀\u001b[0m⠀\u001b[0m⠀\u001b[0m⠀\u001b[0m⠀\u001b[0m⠀\u001b[0m⠀\u001b[0m⠀\u001b[0m⠀\u001b[31m⠈\u001b[39m\u001b[31m⠻\u001b[39m\u001b[31m⣦\u001b[39m\u001b[31m⡀\u001b[39m\u001b[0m⠀\u001b[0m⠀\u001b[0m⠀\u001b[0m⠀\u001b[0m⠀\u001b[0m⠀\u001b[0m⠀\u001b[0m⠀\u001b[0m⠀\u001b[0m⠀\u001b[0m⠀\u001b[0m⠀\u001b[0m⠀\u001b[0m⠀\u001b[0m⠀\u001b[0m⠀\u001b[0m⠀\u001b[0m⠀\u001b[0m⠀\u001b[0m⠀\u001b[0m⠀\u001b[0m⠀\u001b[0m⠀\u001b[90m│\u001b[39m    \n",
       "        \u001b[90m │\u001b[39m\u001b[0m⠀\u001b[0m⠀\u001b[0m⠀\u001b[0m⠀\u001b[0m⠀\u001b[0m⠀\u001b[0m⠀\u001b[0m⠀\u001b[0m⠀\u001b[0m⠀\u001b[0m⠀\u001b[0m⠀\u001b[0m⠀\u001b[0m⠀\u001b[0m⠀\u001b[0m⠀\u001b[0m⠀\u001b[31m⠈\u001b[39m\u001b[31m⠻\u001b[39m\u001b[31m⣦\u001b[39m\u001b[31m⡀\u001b[39m\u001b[0m⠀\u001b[0m⠀\u001b[0m⠀\u001b[0m⠀\u001b[0m⠀\u001b[0m⠀\u001b[0m⠀\u001b[0m⠀\u001b[0m⠀\u001b[0m⠀\u001b[0m⠀\u001b[0m⠀\u001b[0m⠀\u001b[0m⠀\u001b[0m⠀\u001b[0m⠀\u001b[0m⠀\u001b[0m⠀\u001b[0m⠀\u001b[0m⠀\u001b[0m⠀\u001b[90m│\u001b[39m    \n",
       "        \u001b[90m │\u001b[39m\u001b[0m⠀\u001b[0m⠀\u001b[0m⠀\u001b[0m⠀\u001b[0m⠀\u001b[0m⠀\u001b[0m⠀\u001b[0m⠀\u001b[0m⠀\u001b[0m⠀\u001b[0m⠀\u001b[0m⠀\u001b[0m⠀\u001b[0m⠀\u001b[0m⠀\u001b[0m⠀\u001b[0m⠀\u001b[0m⠀\u001b[0m⠀\u001b[31m⠈\u001b[39m\u001b[31m⠻\u001b[39m\u001b[31m⣦\u001b[39m\u001b[31m⡀\u001b[39m\u001b[0m⠀\u001b[0m⠀\u001b[0m⠀\u001b[0m⠀\u001b[0m⠀\u001b[0m⠀\u001b[0m⠀\u001b[0m⠀\u001b[0m⠀\u001b[0m⠀\u001b[0m⠀\u001b[0m⠀\u001b[0m⠀\u001b[0m⠀\u001b[0m⠀\u001b[0m⠀\u001b[0m⠀\u001b[0m⠀\u001b[0m⠀\u001b[90m│\u001b[39m    \n",
       "        \u001b[90m │\u001b[39m\u001b[0m⠀\u001b[0m⠀\u001b[0m⠀\u001b[0m⠀\u001b[0m⠀\u001b[0m⠀\u001b[0m⠀\u001b[0m⠀\u001b[0m⠀\u001b[0m⠀\u001b[0m⠀\u001b[0m⠀\u001b[0m⠀\u001b[0m⠀\u001b[0m⠀\u001b[0m⠀\u001b[0m⠀\u001b[0m⠀\u001b[0m⠀\u001b[0m⠀\u001b[0m⠀\u001b[31m⠈\u001b[39m\u001b[31m⠻\u001b[39m\u001b[31m⣦\u001b[39m\u001b[31m⡀\u001b[39m\u001b[0m⠀\u001b[0m⠀\u001b[0m⠀\u001b[0m⠀\u001b[0m⠀\u001b[0m⠀\u001b[0m⠀\u001b[0m⠀\u001b[0m⠀\u001b[0m⠀\u001b[0m⠀\u001b[0m⠀\u001b[0m⠀\u001b[0m⠀\u001b[0m⠀\u001b[0m⠀\u001b[0m⠀\u001b[90m│\u001b[39m    \n",
       "        \u001b[90m │\u001b[39m\u001b[0m⠀\u001b[0m⠀\u001b[0m⠀\u001b[0m⠀\u001b[0m⠀\u001b[0m⠀\u001b[0m⠀\u001b[0m⠀\u001b[0m⠀\u001b[0m⠀\u001b[0m⠀\u001b[0m⠀\u001b[0m⠀\u001b[0m⠀\u001b[0m⠀\u001b[0m⠀\u001b[0m⠀\u001b[0m⠀\u001b[0m⠀\u001b[0m⠀\u001b[0m⠀\u001b[0m⠀\u001b[0m⠀\u001b[31m⠈\u001b[39m\u001b[31m⠻\u001b[39m\u001b[31m⣦\u001b[39m\u001b[31m⡀\u001b[39m\u001b[0m⠀\u001b[0m⠀\u001b[0m⠀\u001b[0m⠀\u001b[0m⠀\u001b[0m⠀\u001b[0m⠀\u001b[0m⠀\u001b[0m⠀\u001b[0m⠀\u001b[0m⠀\u001b[0m⠀\u001b[0m⠀\u001b[0m⠀\u001b[0m⠀\u001b[90m│\u001b[39m    \n",
       "        \u001b[90m │\u001b[39m\u001b[0m⠀\u001b[0m⠀\u001b[0m⠀\u001b[0m⠀\u001b[0m⠀\u001b[0m⠀\u001b[0m⠀\u001b[0m⠀\u001b[0m⠀\u001b[0m⠀\u001b[0m⠀\u001b[0m⠀\u001b[0m⠀\u001b[0m⠀\u001b[0m⠀\u001b[0m⠀\u001b[0m⠀\u001b[0m⠀\u001b[0m⠀\u001b[0m⠀\u001b[0m⠀\u001b[0m⠀\u001b[0m⠀\u001b[0m⠀\u001b[0m⠀\u001b[31m⠈\u001b[39m\u001b[31m⠻\u001b[39m\u001b[31m⣦\u001b[39m\u001b[31m⡀\u001b[39m\u001b[0m⠀\u001b[0m⠀\u001b[0m⠀\u001b[0m⠀\u001b[0m⠀\u001b[0m⠀\u001b[0m⠀\u001b[0m⠀\u001b[0m⠀\u001b[0m⠀\u001b[0m⠀\u001b[0m⠀\u001b[0m⠀\u001b[90m│\u001b[39m    \n",
       "        \u001b[90m │\u001b[39m\u001b[0m⠀\u001b[0m⠀\u001b[0m⠀\u001b[0m⠀\u001b[0m⠀\u001b[0m⠀\u001b[0m⠀\u001b[0m⠀\u001b[0m⠀\u001b[0m⠀\u001b[0m⠀\u001b[0m⠀\u001b[0m⠀\u001b[0m⠀\u001b[0m⠀\u001b[0m⠀\u001b[0m⠀\u001b[0m⠀\u001b[0m⠀\u001b[0m⠀\u001b[0m⠀\u001b[0m⠀\u001b[0m⠀\u001b[0m⠀\u001b[0m⠀\u001b[0m⠀\u001b[0m⠀\u001b[31m⠈\u001b[39m\u001b[31m⠻\u001b[39m\u001b[31m⣦\u001b[39m\u001b[31m⡀\u001b[39m\u001b[0m⠀\u001b[0m⠀\u001b[0m⠀\u001b[0m⠀\u001b[0m⠀\u001b[0m⠀\u001b[0m⠀\u001b[0m⠀\u001b[0m⠀\u001b[0m⠀\u001b[0m⠀\u001b[90m│\u001b[39m    \n",
       "        \u001b[90m │\u001b[39m\u001b[0m⠀\u001b[0m⠀\u001b[0m⠀\u001b[0m⠀\u001b[0m⠀\u001b[0m⠀\u001b[0m⠀\u001b[0m⠀\u001b[0m⠀\u001b[0m⠀\u001b[0m⠀\u001b[0m⠀\u001b[0m⠀\u001b[0m⠀\u001b[0m⠀\u001b[0m⠀\u001b[0m⠀\u001b[0m⠀\u001b[0m⠀\u001b[0m⠀\u001b[0m⠀\u001b[0m⠀\u001b[0m⠀\u001b[0m⠀\u001b[0m⠀\u001b[0m⠀\u001b[0m⠀\u001b[0m⠀\u001b[0m⠀\u001b[31m⠈\u001b[39m\u001b[31m⠻\u001b[39m\u001b[31m⣦\u001b[39m\u001b[31m⡀\u001b[39m\u001b[0m⠀\u001b[0m⠀\u001b[0m⠀\u001b[0m⠀\u001b[0m⠀\u001b[0m⠀\u001b[0m⠀\u001b[0m⠀\u001b[0m⠀\u001b[90m│\u001b[39m    \n",
       "        \u001b[90m │\u001b[39m\u001b[0m⠀\u001b[0m⠀\u001b[0m⠀\u001b[0m⠀\u001b[0m⠀\u001b[0m⠀\u001b[0m⠀\u001b[0m⠀\u001b[0m⠀\u001b[0m⠀\u001b[0m⠀\u001b[0m⠀\u001b[0m⠀\u001b[0m⠀\u001b[0m⠀\u001b[0m⠀\u001b[0m⠀\u001b[0m⠀\u001b[0m⠀\u001b[0m⠀\u001b[0m⠀\u001b[0m⠀\u001b[0m⠀\u001b[0m⠀\u001b[0m⠀\u001b[0m⠀\u001b[0m⠀\u001b[0m⠀\u001b[0m⠀\u001b[0m⠀\u001b[0m⠀\u001b[31m⠈\u001b[39m\u001b[31m⠻\u001b[39m\u001b[31m⣦\u001b[39m\u001b[31m⡀\u001b[39m\u001b[0m⠀\u001b[0m⠀\u001b[0m⠀\u001b[0m⠀\u001b[0m⠀\u001b[0m⠀\u001b[0m⠀\u001b[90m│\u001b[39m    \n",
       "        \u001b[90m │\u001b[39m\u001b[0m⠀\u001b[0m⠀\u001b[0m⠀\u001b[0m⠀\u001b[0m⠀\u001b[0m⠀\u001b[0m⠀\u001b[0m⠀\u001b[0m⠀\u001b[0m⠀\u001b[0m⠀\u001b[0m⠀\u001b[0m⠀\u001b[0m⠀\u001b[0m⠀\u001b[0m⠀\u001b[0m⠀\u001b[0m⠀\u001b[0m⠀\u001b[0m⠀\u001b[0m⠀\u001b[0m⠀\u001b[0m⠀\u001b[0m⠀\u001b[0m⠀\u001b[0m⠀\u001b[0m⠀\u001b[0m⠀\u001b[0m⠀\u001b[0m⠀\u001b[0m⠀\u001b[0m⠀\u001b[0m⠀\u001b[31m⠈\u001b[39m\u001b[31m⠻\u001b[39m\u001b[31m⣦\u001b[39m\u001b[31m⡀\u001b[39m\u001b[0m⠀\u001b[0m⠀\u001b[0m⠀\u001b[0m⠀\u001b[0m⠀\u001b[90m│\u001b[39m    \n",
       "        \u001b[90m │\u001b[39m\u001b[0m⠀\u001b[0m⠀\u001b[0m⠀\u001b[0m⠀\u001b[0m⠀\u001b[0m⠀\u001b[0m⠀\u001b[0m⠀\u001b[0m⠀\u001b[0m⠀\u001b[0m⠀\u001b[0m⠀\u001b[0m⠀\u001b[0m⠀\u001b[0m⠀\u001b[0m⠀\u001b[0m⠀\u001b[0m⠀\u001b[0m⠀\u001b[0m⠀\u001b[0m⠀\u001b[0m⠀\u001b[0m⠀\u001b[0m⠀\u001b[0m⠀\u001b[0m⠀\u001b[0m⠀\u001b[0m⠀\u001b[0m⠀\u001b[0m⠀\u001b[0m⠀\u001b[0m⠀\u001b[0m⠀\u001b[0m⠀\u001b[0m⠀\u001b[31m⠈\u001b[39m\u001b[31m⠻\u001b[39m\u001b[31m⣦\u001b[39m\u001b[31m⡀\u001b[39m\u001b[0m⠀\u001b[0m⠀\u001b[0m⠀\u001b[90m│\u001b[39m    \n",
       "        \u001b[90m │\u001b[39m\u001b[0m⠀\u001b[0m⠀\u001b[0m⠀\u001b[0m⠀\u001b[0m⠀\u001b[0m⠀\u001b[0m⠀\u001b[0m⠀\u001b[0m⠀\u001b[0m⠀\u001b[0m⠀\u001b[0m⠀\u001b[0m⠀\u001b[0m⠀\u001b[0m⠀\u001b[0m⠀\u001b[0m⠀\u001b[0m⠀\u001b[0m⠀\u001b[0m⠀\u001b[0m⠀\u001b[0m⠀\u001b[0m⠀\u001b[0m⠀\u001b[0m⠀\u001b[0m⠀\u001b[0m⠀\u001b[0m⠀\u001b[0m⠀\u001b[0m⠀\u001b[0m⠀\u001b[0m⠀\u001b[0m⠀\u001b[0m⠀\u001b[0m⠀\u001b[0m⠀\u001b[0m⠀\u001b[31m⠈\u001b[39m\u001b[31m⠻\u001b[39m\u001b[31m⣦\u001b[39m\u001b[31m⡀\u001b[39m\u001b[0m⠀\u001b[90m│\u001b[39m    \n",
       "   \u001b[90m12500\u001b[39m\u001b[90m │\u001b[39m\u001b[0m⠀\u001b[0m⠀\u001b[0m⠀\u001b[0m⠀\u001b[0m⠀\u001b[0m⠀\u001b[0m⠀\u001b[0m⠀\u001b[0m⠀\u001b[0m⠀\u001b[0m⠀\u001b[0m⠀\u001b[0m⠀\u001b[0m⠀\u001b[0m⠀\u001b[0m⠀\u001b[0m⠀\u001b[0m⠀\u001b[0m⠀\u001b[0m⠀\u001b[0m⠀\u001b[0m⠀\u001b[0m⠀\u001b[0m⠀\u001b[0m⠀\u001b[0m⠀\u001b[0m⠀\u001b[0m⠀\u001b[0m⠀\u001b[0m⠀\u001b[0m⠀\u001b[0m⠀\u001b[0m⠀\u001b[0m⠀\u001b[0m⠀\u001b[0m⠀\u001b[0m⠀\u001b[0m⠀\u001b[0m⠀\u001b[31m⠈\u001b[39m\u001b[31m⠻\u001b[39m\u001b[31m⣦\u001b[39m\u001b[90m│\u001b[39m    \n",
       "\u001b[90m         └──────────────────────────────────────────┘\u001b[39m    \n",
       "\u001b[90m         1\u001b[39m\u001b[90m                    \u001b[39m\u001b[90m                  12500\u001b[39m\n",
       "\u001b[0m                         nz = 64950"
      ]
     },
     "execution_count": 4,
     "metadata": {},
     "output_type": "execute_result"
    }
   ],
   "source": [
    "import UnicodePlots\n",
    "UnicodePlots.spy(edges)"
   ]
  },
  {
   "cell_type": "code",
   "execution_count": 5,
   "metadata": {},
   "outputs": [
    {
     "data": {
      "text/plain": [
       "12500×12500 SparseArrays.SparseMatrixCSC{Float64,Int64} with 64950 stored entries:\n",
       "  [2    ,     1]  =  5.08226e13\n",
       "  [6    ,     1]  =  5.08226e13\n",
       "  [26   ,     1]  =  5.08226e13\n",
       "  [1    ,     2]  =  5.08226e13\n",
       "  [3    ,     2]  =  5.08226e13\n",
       "  [7    ,     2]  =  5.08226e13\n",
       "  [27   ,     2]  =  5.08226e13\n",
       "  [2    ,     3]  =  5.08226e13\n",
       "  [4    ,     3]  =  5.08226e13\n",
       "  [8    ,     3]  =  5.08226e13\n",
       "  [28   ,     3]  =  5.08226e13\n",
       "  [3    ,     4]  =  5.08226e13\n",
       "  ⋮\n",
       "  [12496, 12497]  =  5.08226e13\n",
       "  [12498, 12497]  =  5.08226e13\n",
       "  [12473, 12498]  =  5.08226e13\n",
       "  [12493, 12498]  =  5.08226e13\n",
       "  [12497, 12498]  =  5.08226e13\n",
       "  [12499, 12498]  =  5.08226e13\n",
       "  [12474, 12499]  =  5.08226e13\n",
       "  [12494, 12499]  =  5.08226e13\n",
       "  [12498, 12499]  =  5.08226e13\n",
       "  [12500, 12499]  =  5.08226e13\n",
       "  [12475, 12500]  =  5.08226e13\n",
       "  [12495, 12500]  =  5.08226e13\n",
       "  [12499, 12500]  =  5.08226e13"
      ]
     },
     "execution_count": 5,
     "metadata": {},
     "output_type": "execute_result"
    }
   ],
   "source": [
    "ω=Raven.bareratematrix(edges,Raven.rateMarcus)\n",
    "\n",
    "#u0=vcat(ones(ω.m))\n",
    "#u0=vcat(ones(10)*ω.m/10,zeros(ω.m-10))"
   ]
  },
  {
   "cell_type": "code",
   "execution_count": 6,
   "metadata": {},
   "outputs": [],
   "source": [
    "# OK, that's a simple problem setup. \n",
    "# We're now going to grib off this example from Differential Equations:\n",
    "# https://benchmarks.sciml.ai/html/Jumps/Diffusion_CTRW.html"
   ]
  },
  {
   "cell_type": "code",
   "execution_count": 7,
   "metadata": {},
   "outputs": [
    {
     "name": "stdout",
     "output_type": "stream",
     "text": [
      "N = 12500\n"
     ]
    },
    {
     "data": {
      "text/plain": [
       "(::min_reaction_network) (generic function with 0 methods)"
      ]
     },
     "execution_count": 7,
     "metadata": {},
     "output_type": "execute_result"
    }
   ],
   "source": [
    "N=edges.m\n",
    "@show N\n",
    "rn=@empty_reaction_network"
   ]
  },
  {
   "cell_type": "code",
   "execution_count": 8,
   "metadata": {},
   "outputs": [
    {
     "data": {
      "text/plain": [
       "buildReactionNetwork! (generic function with 1 method)"
      ]
     },
     "execution_count": 8,
     "metadata": {},
     "output_type": "execute_result"
    }
   ],
   "source": [
    "import SparseArrays\n",
    "\n",
    "function buildReactionNetwork!(rn, ω)\n",
    "    for i in 1:ω.m\n",
    "        addspecies!(rn, Symbol(:u, i))\n",
    "    end\n",
    "    addparam!(rn,:β)\n",
    "    \n",
    "    As,Bs,rs=SparseArrays.findnz(ω)\n",
    "    for (A,B,r) in zip(As,Bs,rs)\n",
    "#        println(\"A: $A B:$A r:$r\")\n",
    "        addreaction!(rn, r, (Symbol(:u,A)=>1,) , (Symbol(:u,B)=>1,))\n",
    "    end\n",
    "    rn\n",
    "end"
   ]
  },
  {
   "cell_type": "code",
   "execution_count": 9,
   "metadata": {},
   "outputs": [
    {
     "name": "stdout",
     "output_type": "stream",
     "text": [
      "  0.472391 seconds (3.61 M allocations: 200.488 MiB, 12.57% gc time)\n"
     ]
    },
    {
     "data": {
      "text/plain": [
       "(::min_reaction_network) (generic function with 0 methods)"
      ]
     },
     "execution_count": 9,
     "metadata": {},
     "output_type": "execute_result"
    }
   ],
   "source": [
    "@time buildReactionNetwork!(rn, ω/5.082261933854838e13)"
   ]
  },
  {
   "cell_type": "code",
   "execution_count": 10,
   "metadata": {},
   "outputs": [
    {
     "data": {
      "text/plain": [
       "(::min_reaction_network) (generic function with 0 methods)"
      ]
     },
     "execution_count": 10,
     "metadata": {},
     "output_type": "execute_result"
    }
   ],
   "source": [
    "rn"
   ]
  },
  {
   "cell_type": "code",
   "execution_count": 11,
   "metadata": {},
   "outputs": [],
   "source": [
    "# @show rn"
   ]
  },
  {
   "cell_type": "code",
   "execution_count": 12,
   "metadata": {},
   "outputs": [],
   "source": [
    "addjumps!(rn, build_regular_jumps=false, minimal_jumps=true)\n"
   ]
  },
  {
   "cell_type": "code",
   "execution_count": 13,
   "metadata": {},
   "outputs": [
    {
     "ename": "UndefVarError",
     "evalue": "UndefVarError: u0 not defined",
     "output_type": "error",
     "traceback": [
      "UndefVarError: u0 not defined",
      "",
      "Stacktrace:",
      " [1] top-level scope at In[13]:3"
     ]
    }
   ],
   "source": [
    "tf=100\n",
    "rnpar=ω.m^-2\n",
    "\n",
    "prob = DiscreteProblem(u0, (0.0, tf), rnpar)\n",
    "jump_prob = JumpProblem(prob, NRM(), rn, save_positions=(false,false))\n",
    "@time sol = solve(jump_prob, SSAStepper(), saveat=tf/1000.)"
   ]
  },
  {
   "cell_type": "code",
   "execution_count": 14,
   "metadata": {},
   "outputs": [],
   "source": [
    "using Plots"
   ]
  },
  {
   "cell_type": "code",
   "execution_count": 15,
   "metadata": {},
   "outputs": [
    {
     "ename": "UndefVarError",
     "evalue": "UndefVarError: sol not defined",
     "output_type": "error",
     "traceback": [
      "UndefVarError: sol not defined",
      "",
      "Stacktrace:",
      " [1] top-level scope at In[15]:1"
     ]
    }
   ],
   "source": [
    "plot(sol.t,sol[Int((N+2)/2),:])\n",
    "plot!(sol.t,sol[Int((N)/2),:])\n",
    "#plot!(sol.t,sol[1,:])\n",
    "#plot!(sol.t,sol[2,:])\n",
    "#plot!(sol.t,sol[3,:])\n",
    "plot!(sol.t,sol[300,:])\n",
    "plot!(sol.t,sol[60,:])\n",
    "\n"
   ]
  },
  {
   "cell_type": "code",
   "execution_count": 16,
   "metadata": {},
   "outputs": [
    {
     "name": "stdout",
     "output_type": "stream",
     "text": [
      "search: \u001b[0m\u001b[1ma\u001b[22m\u001b[0m\u001b[1md\u001b[22m\u001b[0m\u001b[1md\u001b[22m\u001b[0m\u001b[1mj\u001b[22m\u001b[0m\u001b[1mu\u001b[22m\u001b[0m\u001b[1mm\u001b[22m\u001b[0m\u001b[1mp\u001b[22m\u001b[0m\u001b[1ms\u001b[22m\u001b[0m\u001b[1m!\u001b[22m\n",
      "\n"
     ]
    },
    {
     "data": {
      "text/latex": [
       "\\begin{verbatim}\n",
       "addjumps!(network; build_jumps=true, build_regular_jumps=true, minimal_jumps=false)\n",
       "\\end{verbatim}\n",
       "Extend an \\texttt{AbstractReactionNetwork} generated with the \\texttt{@min\\_reaction\\_network} or \\texttt{@empty\\_reaction\\_network} macros with everything needed to use jump SSA solvers.\n",
       "\n",
       "Optional kwargs can be used to disable the construction of additional jump solver components.\n",
       "\n",
       "Keyword arguments:\n",
       "\n",
       "\\begin{itemize}\n",
       "\\item \\texttt{build\\_jumps}: if true jump rates and affects will be calculated for use in DiffEqJump SSAs.\n",
       "\n",
       "\n",
       "\\item \\texttt{build\\_regular\\_jumps}: if true a \\texttt{RegularJump} representation of the stochastic chemical kinetics model will be calculated for use in τ-leaping methods.\n",
       "\n",
       "\n",
       "\\item \\texttt{minimal\\_jumps}: if true \\texttt{ConstantRate} jumps are only constructed for non-mass action jumps. (Note, mass action jumps are still resolved within any jump simulation. This option simply speeds up the construction of the jump problem since it avoids building redundant \\texttt{ConstantRate} jumps that encode \\texttt{MassActionJump}s, which are subsequently ignored within jump simulations.)\n",
       "\n",
       "\\end{itemize}\n"
      ],
      "text/markdown": [
       "```\n",
       "addjumps!(network; build_jumps=true, build_regular_jumps=true, minimal_jumps=false)\n",
       "```\n",
       "\n",
       "Extend an `AbstractReactionNetwork` generated with the `@min_reaction_network` or `@empty_reaction_network` macros with everything needed to use jump SSA solvers.\n",
       "\n",
       "Optional kwargs can be used to disable the construction of additional jump solver components.\n",
       "\n",
       "Keyword arguments:\n",
       "\n",
       "  * `build_jumps`: if true jump rates and affects will be calculated for use in DiffEqJump SSAs.\n",
       "  * `build_regular_jumps`: if true a `RegularJump` representation of the stochastic chemical kinetics model will be calculated for use in τ-leaping methods.\n",
       "  * `minimal_jumps`: if true `ConstantRate` jumps are only constructed for non-mass action jumps. (Note, mass action jumps are still resolved within any jump simulation. This option simply speeds up the construction of the jump problem since it avoids building redundant `ConstantRate` jumps that encode `MassActionJump`s, which are subsequently ignored within jump simulations.)\n"
      ],
      "text/plain": [
       "\u001b[36m  addjumps!(network; build_jumps=true, build_regular_jumps=true, minimal_jumps=false)\u001b[39m\n",
       "\n",
       "  Extend an \u001b[36mAbstractReactionNetwork\u001b[39m generated with the \u001b[36m@min_reaction_network\u001b[39m\n",
       "  or \u001b[36m@empty_reaction_network\u001b[39m macros with everything needed to use jump SSA\n",
       "  solvers.\n",
       "\n",
       "  Optional kwargs can be used to disable the construction of additional jump\n",
       "  solver components.\n",
       "\n",
       "  Keyword arguments:\n",
       "\n",
       "    •    \u001b[36mbuild_jumps\u001b[39m: if true jump rates and affects will be calculated for\n",
       "        use in DiffEqJump SSAs.\n",
       "\n",
       "    •    \u001b[36mbuild_regular_jumps\u001b[39m: if true a \u001b[36mRegularJump\u001b[39m representation of the\n",
       "        stochastic chemical kinetics model will be calculated for use in\n",
       "        τ-leaping methods.\n",
       "\n",
       "    •    \u001b[36mminimal_jumps\u001b[39m: if true \u001b[36mConstantRate\u001b[39m jumps are only constructed for\n",
       "        non-mass action jumps. (Note, mass action jumps are still resolved\n",
       "        within any jump simulation. This option simply speeds up the\n",
       "        construction of the jump problem since it avoids building\n",
       "        redundant \u001b[36mConstantRate\u001b[39m jumps that encode \u001b[36mMassActionJump\u001b[39ms, which\n",
       "        are subsequently ignored within jump simulations.)"
      ]
     },
     "execution_count": 16,
     "metadata": {},
     "output_type": "execute_result"
    }
   ],
   "source": [
    "?addjumps!"
   ]
  },
  {
   "cell_type": "code",
   "execution_count": 17,
   "metadata": {},
   "outputs": [
    {
     "name": "stdout",
     "output_type": "stream",
     "text": [
      "search: \u001b[0m\u001b[1ma\u001b[22m\u001b[0m\u001b[1md\u001b[22m\u001b[0m\u001b[1md\u001b[22m\u001b[0m\u001b[1mr\u001b[22m\u001b[0m\u001b[1me\u001b[22m\u001b[0m\u001b[1ma\u001b[22m\u001b[0m\u001b[1mc\u001b[22m\u001b[0m\u001b[1mt\u001b[22m\u001b[0m\u001b[1mi\u001b[22m\u001b[0m\u001b[1mo\u001b[22m\u001b[0m\u001b[1mn\u001b[22m\u001b[0m\u001b[1m!\u001b[22m\n",
      "\n"
     ]
    },
    {
     "data": {
      "text/latex": [
       "\\begin{verbatim}\n",
       "addreaction!(network, rateex::Union{Expr,Symbol,Int,Float64}, rxexpr::Expr)\n",
       "\\end{verbatim}\n",
       "Given an AbstractReaction network, add a reaction with the passed in rate and reaction expressions. i.e. a reaction of the form\n",
       "\n",
       "\\begin{verbatim}\n",
       "k*X, 2X + Y --> 2W\n",
       "\\end{verbatim}\n",
       "would have \\texttt{rateex=:(k*X)} and \\texttt{rxexpr=:(2X + Y --> W)},\n",
       "\n",
       "\\begin{verbatim}\n",
       "10.5, 0 --> X\n",
       "\\end{verbatim}\n",
       "would have \\texttt{rateex=10.5} and \\texttt{rxexpr=:(0 --> X)}, and\n",
       "\n",
       "\\begin{verbatim}\n",
       "k, X+X --> Z\n",
       "\\end{verbatim}\n",
       "would have \\texttt{rateex=:k} and \\texttt{rxexpr=:(X+X --> Z)}. All normal DSL reaction definition notation should be supported.\n",
       "\n",
       "\\rule{\\textwidth}{1pt}\n",
       "\\begin{verbatim}\n",
       "addreaction!(network, rateex::Union{Expr,Symbol,Int,Float64}, substrates, products)\n",
       "\\end{verbatim}\n",
       "Given an AbstractReaction network, add a reaction with the passed in rate, \\texttt{rateex}, substrate stoichiometry, and product stoichiometry. Stoichiometries are represented as tuples of \\texttt{Pair\\{Symbol,Int\\}}. i.e. a reaction of the form\n",
       "\n",
       "\\begin{verbatim}\n",
       "k*X, 2X + Y --> 2W\n",
       "\\end{verbatim}\n",
       "would have \\texttt{rateex=:(k*X)}, \\texttt{substrates=(:X=>2, :Y=>2)}\\texttt{and}products=(W=>2,)`,\n",
       "\n",
       "\\begin{verbatim}\n",
       "10.5, 0 --> X\n",
       "\\end{verbatim}\n",
       "would have \\texttt{rateex=10.5}, \\texttt{substrates=()} and \\texttt{products=(:X=>1,)}, and\n",
       "\n",
       "\\begin{verbatim}\n",
       "k, X+X --> Z\n",
       "\\end{verbatim}\n",
       "would have \\texttt{rateex=:k}, \\texttt{substrates=(:X=>2,)} and \\texttt{products=(:Z=>2,)}. All normal DSL reaction definition notation should be supported for the \\texttt{rateex}.\n",
       "\n"
      ],
      "text/markdown": [
       "```\n",
       "addreaction!(network, rateex::Union{Expr,Symbol,Int,Float64}, rxexpr::Expr)\n",
       "```\n",
       "\n",
       "Given an AbstractReaction network, add a reaction with the passed in rate and reaction expressions. i.e. a reaction of the form\n",
       "\n",
       "```julia\n",
       "k*X, 2X + Y --> 2W\n",
       "```\n",
       "\n",
       "would have `rateex=:(k*X)` and `rxexpr=:(2X + Y --> W)`,\n",
       "\n",
       "```julia\n",
       "10.5, 0 --> X\n",
       "```\n",
       "\n",
       "would have `rateex=10.5` and `rxexpr=:(0 --> X)`, and\n",
       "\n",
       "```julia\n",
       "k, X+X --> Z\n",
       "```\n",
       "\n",
       "would have `rateex=:k` and `rxexpr=:(X+X --> Z)`. All normal DSL reaction definition notation should be supported.\n",
       "\n",
       "---\n",
       "\n",
       "```\n",
       "addreaction!(network, rateex::Union{Expr,Symbol,Int,Float64}, substrates, products)\n",
       "```\n",
       "\n",
       "Given an AbstractReaction network, add a reaction with the passed in rate, `rateex`, substrate stoichiometry, and product stoichiometry. Stoichiometries are represented as tuples of `Pair{Symbol,Int}`. i.e. a reaction of the form\n",
       "\n",
       "```julia\n",
       "k*X, 2X + Y --> 2W\n",
       "```\n",
       "\n",
       "would have `rateex=:(k*X)`, `substrates=(:X=>2, :Y=>2)``and`products=(W=>2,)`,\n",
       "\n",
       "```julia\n",
       "10.5, 0 --> X\n",
       "```\n",
       "\n",
       "would have `rateex=10.5`, `substrates=()` and `products=(:X=>1,)`, and\n",
       "\n",
       "```julia\n",
       "k, X+X --> Z\n",
       "```\n",
       "\n",
       "would have `rateex=:k`, `substrates=(:X=>2,)` and `products=(:Z=>2,)`. All normal DSL reaction definition notation should be supported for the `rateex`.\n"
      ],
      "text/plain": [
       "\u001b[36m  addreaction!(network, rateex::Union{Expr,Symbol,Int,Float64}, rxexpr::Expr)\u001b[39m\n",
       "\n",
       "  Given an AbstractReaction network, add a reaction with the passed in rate\n",
       "  and reaction expressions. i.e. a reaction of the form\n",
       "\n",
       "\u001b[36m  k*X, 2X + Y --> 2W\u001b[39m\n",
       "\n",
       "  would have \u001b[36mrateex=:(k*X)\u001b[39m and \u001b[36mrxexpr=:(2X + Y --> W)\u001b[39m,\n",
       "\n",
       "\u001b[36m  10.5, 0 --> X\u001b[39m\n",
       "\n",
       "  would have \u001b[36mrateex=10.5\u001b[39m and \u001b[36mrxexpr=:(0 --> X)\u001b[39m, and\n",
       "\n",
       "\u001b[36m  k, X+X --> Z\u001b[39m\n",
       "\n",
       "  would have \u001b[36mrateex=:k\u001b[39m and \u001b[36mrxexpr=:(X+X --> Z)\u001b[39m. All normal DSL reaction\n",
       "  definition notation should be supported.\n",
       "\n",
       "  ────────────────────────────────────────────────────────────────────────────\n",
       "\n",
       "\u001b[36m  addreaction!(network, rateex::Union{Expr,Symbol,Int,Float64}, substrates, products)\u001b[39m\n",
       "\n",
       "  Given an AbstractReaction network, add a reaction with the passed in rate,\n",
       "  \u001b[36mrateex\u001b[39m, substrate stoichiometry, and product stoichiometry. Stoichiometries\n",
       "  are represented as tuples of \u001b[36mPair{Symbol,Int}\u001b[39m. i.e. a reaction of the form\n",
       "\n",
       "\u001b[36m  k*X, 2X + Y --> 2W\u001b[39m\n",
       "\n",
       "  would have \u001b[36mrateex=:(k*X)\u001b[39m, \u001b[36msubstrates=(:X=>2, :Y=>2)\u001b[39m\u001b[36mand\u001b[39mproducts=(W=>2,)`,\n",
       "\n",
       "\u001b[36m  10.5, 0 --> X\u001b[39m\n",
       "\n",
       "  would have \u001b[36mrateex=10.5\u001b[39m, \u001b[36msubstrates=()\u001b[39m and \u001b[36mproducts=(:X=>1,)\u001b[39m, and\n",
       "\n",
       "\u001b[36m  k, X+X --> Z\u001b[39m\n",
       "\n",
       "  would have \u001b[36mrateex=:k\u001b[39m, \u001b[36msubstrates=(:X=>2,)\u001b[39m and \u001b[36mproducts=(:Z=>2,)\u001b[39m. All normal\n",
       "  DSL reaction definition notation should be supported for the \u001b[36mrateex\u001b[39m."
      ]
     },
     "execution_count": 17,
     "metadata": {},
     "output_type": "execute_result"
    }
   ],
   "source": [
    "?addreaction!"
   ]
  },
  {
   "cell_type": "code",
   "execution_count": null,
   "metadata": {},
   "outputs": [],
   "source": []
  }
 ],
 "metadata": {
  "kernelspec": {
   "display_name": "Julia 1.4.2",
   "language": "julia",
   "name": "julia-1.4"
  },
  "language_info": {
   "file_extension": ".jl",
   "mimetype": "application/julia",
   "name": "julia",
   "version": "1.4.2"
  }
 },
 "nbformat": 4,
 "nbformat_minor": 2
}
