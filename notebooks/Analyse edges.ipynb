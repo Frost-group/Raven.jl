{
 "cells": [
  {
   "cell_type": "code",
   "execution_count": 3,
   "metadata": {},
   "outputs": [],
   "source": [
    "using Revise"
   ]
  },
  {
   "cell_type": "code",
   "execution_count": 4,
   "metadata": {},
   "outputs": [
    {
     "name": "stderr",
     "output_type": "stream",
     "text": [
      "\u001b[32m\u001b[1m Activating\u001b[22m\u001b[39m environment at `~/REPOS/Raven.jl/Project.toml`\n"
     ]
    }
   ],
   "source": [
    "using Pkg\n",
    "Pkg.activate(\"../\")"
   ]
  },
  {
   "cell_type": "code",
   "execution_count": 5,
   "metadata": {},
   "outputs": [],
   "source": [
    "using Raven"
   ]
  },
  {
   "cell_type": "code",
   "execution_count": 6,
   "metadata": {},
   "outputs": [
    {
     "data": {
      "text/plain": [
       "287993×287993 SparseArrays.SparseMatrixCSC{Float64,Int64} with 952114 stored entries:\n",
       "  [2     ,      1]  =  1.0\n",
       "  [1     ,      2]  =  1.0\n",
       "  [3     ,      2]  =  1.0\n",
       "  [2     ,      3]  =  1.0\n",
       "  [4     ,      3]  =  1.0\n",
       "  [3     ,      4]  =  1.0\n",
       "  [5     ,      4]  =  1.0\n",
       "  [4     ,      5]  =  1.0\n",
       "  [6     ,      5]  =  1.0\n",
       "  [5     ,      6]  =  1.0\n",
       "  [7     ,      6]  =  1.0\n",
       "  [6     ,      7]  =  1.0\n",
       "  ⋮\n",
       "  [287987, 287988]  =  1.0\n",
       "  [287989, 287988]  =  1.0\n",
       "  [287988, 287989]  =  1.0\n",
       "  [287990, 287989]  =  1.0\n",
       "  [287989, 287990]  =  1.0\n",
       "  [287991, 287990]  =  1.0\n",
       "  [287990, 287991]  =  1.0\n",
       "  [287992, 287991]  =  1.0\n",
       "  [287991, 287992]  =  1.0\n",
       "  [287993, 287992]  =  1.0\n",
       "  [277576, 287993]  =  0.0634448\n",
       "  [277577, 287993]  =  0.000544663\n",
       "  [287992, 287993]  =  1.0"
      ]
     },
     "execution_count": 6,
     "metadata": {},
     "output_type": "execute_result"
    }
   ],
   "source": [
    "edges=Raven.readToFeTedges(open(\"/Users/jarvist/Downloads/TOF-IDTBT-data/24jan.edge\",\"r\"))"
   ]
  },
  {
   "cell_type": "code",
   "execution_count": 7,
   "metadata": {},
   "outputs": [
    {
     "data": {
      "text/plain": [
       "3.306031743827107"
      ]
     },
     "execution_count": 7,
     "metadata": {},
     "output_type": "execute_result"
    }
   ],
   "source": [
    "# average number of neighbours\n",
    "length(edges.nzval)/edges.m"
   ]
  },
  {
   "cell_type": "code",
   "execution_count": 8,
   "metadata": {},
   "outputs": [
    {
     "data": {
      "text/plain": [
       "287993×287993 SparseMatrixCSC{Float64,Int64} with 952114 stored entries:\n",
       "  [2     ,      1]  =  -1.0\n",
       "  [1     ,      2]  =  -1.0\n",
       "  [3     ,      2]  =  -1.0\n",
       "  [2     ,      3]  =  -1.0\n",
       "  [4     ,      3]  =  -1.0\n",
       "  [3     ,      4]  =  -1.0\n",
       "  [5     ,      4]  =  -1.0\n",
       "  [4     ,      5]  =  -1.0\n",
       "  [6     ,      5]  =  -1.0\n",
       "  [5     ,      6]  =  -1.0\n",
       "  [7     ,      6]  =  -1.0\n",
       "  [6     ,      7]  =  -1.0\n",
       "  ⋮\n",
       "  [287987, 287988]  =  -1.0\n",
       "  [287989, 287988]  =  -1.0\n",
       "  [287988, 287989]  =  -1.0\n",
       "  [287990, 287989]  =  -1.0\n",
       "  [287989, 287990]  =  -1.0\n",
       "  [287991, 287990]  =  -1.0\n",
       "  [287990, 287991]  =  -1.0\n",
       "  [287992, 287991]  =  -1.0\n",
       "  [287991, 287992]  =  -1.0\n",
       "  [287993, 287992]  =  -1.0\n",
       "  [277576, 287993]  =  0.0634448\n",
       "  [277577, 287993]  =  0.000544663\n",
       "  [287992, 287993]  =  -1.0"
      ]
     },
     "execution_count": 8,
     "metadata": {},
     "output_type": "execute_result"
    }
   ],
   "source": [
    "using SparseArrays\n",
    "As,Bs,Js=SparseArrays.findnz(edges)\n",
    "Jsflip=[J>0.1 ? -J : J for J in Js] # invert all the >0.1 to -ve values (i.e. 1 -> -1)\n",
    "edges=SparseArrays.sparse(As,Bs,Jsflip)"
   ]
  },
  {
   "cell_type": "code",
   "execution_count": 9,
   "metadata": {},
   "outputs": [
    {
     "data": {
      "text/plain": [
       "\u001b[1m                       Sparsity Pattern\u001b[22m\n",
       "\u001b[90m          ┌──────────────────────────────────────────┐\u001b[39m    \n",
       "        \u001b[90m1\u001b[39m\u001b[90m │\u001b[39m\u001b[35m⣿\u001b[39m\u001b[35m⣿\u001b[39m\u001b[35m⣿\u001b[39m\u001b[35m⣿\u001b[39m\u001b[35m⣿\u001b[39m\u001b[35m⣿\u001b[39m\u001b[31m⣿\u001b[39m\u001b[35m⣿\u001b[39m\u001b[31m⡇\u001b[39m\u001b[0m⠀\u001b[0m⠀\u001b[0m⠀\u001b[0m⠀\u001b[0m⠀\u001b[0m⠀\u001b[0m⠀\u001b[0m⠀\u001b[0m⠀\u001b[0m⠀\u001b[0m⠀\u001b[0m⠀\u001b[0m⠀\u001b[0m⠀\u001b[0m⠀\u001b[0m⠀\u001b[0m⠀\u001b[0m⠀\u001b[0m⠀\u001b[0m⠀\u001b[0m⠀\u001b[0m⠀\u001b[0m⠀\u001b[0m⠀\u001b[0m⠀\u001b[0m⠀\u001b[0m⠀\u001b[0m⠀\u001b[0m⠀\u001b[0m⠀\u001b[0m⠀\u001b[0m⠀\u001b[0m⠀\u001b[90m│\u001b[39m \u001b[31m> 0\u001b[39m\n",
       "         \u001b[90m │\u001b[39m\u001b[35m⣿\u001b[39m\u001b[35m⣿\u001b[39m\u001b[35m⣿\u001b[39m\u001b[35m⣿\u001b[39m\u001b[35m⣿\u001b[39m\u001b[35m⣿\u001b[39m\u001b[35m⣿\u001b[39m\u001b[35m⣿\u001b[39m\u001b[35m⡇\u001b[39m\u001b[0m⠀\u001b[0m⠀\u001b[0m⠀\u001b[0m⠀\u001b[0m⠀\u001b[0m⠀\u001b[0m⠀\u001b[0m⠀\u001b[0m⠀\u001b[0m⠀\u001b[0m⠀\u001b[0m⠀\u001b[0m⠀\u001b[0m⠀\u001b[0m⠀\u001b[0m⠀\u001b[0m⠀\u001b[0m⠀\u001b[0m⠀\u001b[0m⠀\u001b[0m⠀\u001b[0m⠀\u001b[0m⠀\u001b[0m⠀\u001b[0m⠀\u001b[0m⠀\u001b[0m⠀\u001b[0m⠀\u001b[0m⠀\u001b[0m⠀\u001b[0m⠀\u001b[0m⠀\u001b[0m⠀\u001b[90m│\u001b[39m \u001b[34m< 0\u001b[39m\n",
       "         \u001b[90m │\u001b[39m\u001b[35m⣿\u001b[39m\u001b[35m⣿\u001b[39m\u001b[35m⣿\u001b[39m\u001b[35m⣿\u001b[39m\u001b[35m⣿\u001b[39m\u001b[35m⣿\u001b[39m\u001b[35m⣿\u001b[39m\u001b[35m⣿\u001b[39m\u001b[35m⣿\u001b[39m\u001b[35m⣿\u001b[39m\u001b[31m⣿\u001b[39m\u001b[35m⣟\u001b[39m\u001b[35m⡇\u001b[39m\u001b[0m⠀\u001b[0m⠀\u001b[0m⠀\u001b[0m⠀\u001b[0m⠀\u001b[0m⠀\u001b[0m⠀\u001b[0m⠀\u001b[0m⠀\u001b[0m⠀\u001b[0m⠀\u001b[0m⠀\u001b[0m⠀\u001b[0m⠀\u001b[0m⠀\u001b[0m⠀\u001b[0m⠀\u001b[0m⠀\u001b[0m⠀\u001b[0m⠀\u001b[0m⠀\u001b[0m⠀\u001b[0m⠀\u001b[0m⠀\u001b[0m⠀\u001b[0m⠀\u001b[0m⠀\u001b[0m⠀\u001b[0m⠀\u001b[90m│\u001b[39m    \n",
       "         \u001b[90m │\u001b[39m\u001b[31m⣿\u001b[39m\u001b[35m⣿\u001b[39m\u001b[35m⣿\u001b[39m\u001b[35m⣿\u001b[39m\u001b[35m⣿\u001b[39m\u001b[35m⣿\u001b[39m\u001b[35m⣿\u001b[39m\u001b[35m⣿\u001b[39m\u001b[35m⣿\u001b[39m\u001b[31m⣿\u001b[39m\u001b[35m⣿\u001b[39m\u001b[31m⣿\u001b[39m\u001b[31m⡇\u001b[39m\u001b[0m⠀\u001b[0m⠀\u001b[0m⠀\u001b[0m⠀\u001b[0m⠀\u001b[0m⠀\u001b[0m⠀\u001b[0m⠀\u001b[0m⠀\u001b[0m⠀\u001b[0m⠀\u001b[0m⠀\u001b[0m⠀\u001b[0m⠀\u001b[0m⠀\u001b[0m⠀\u001b[0m⠀\u001b[0m⠀\u001b[0m⠀\u001b[0m⠀\u001b[0m⠀\u001b[0m⠀\u001b[0m⠀\u001b[0m⠀\u001b[0m⠀\u001b[0m⠀\u001b[0m⠀\u001b[0m⠀\u001b[0m⠀\u001b[90m│\u001b[39m    \n",
       "         \u001b[90m │\u001b[39m\u001b[31m⠉\u001b[39m\u001b[31m⠉\u001b[39m\u001b[35m⠉\u001b[39m\u001b[31m⠉\u001b[39m\u001b[35m⣿\u001b[39m\u001b[35m⣿\u001b[39m\u001b[31m⣿\u001b[39m\u001b[35m⣿\u001b[39m\u001b[35m⣿\u001b[39m\u001b[35m⣿\u001b[39m\u001b[35m⣿\u001b[39m\u001b[35m⣿\u001b[39m\u001b[35m⣿\u001b[39m\u001b[31m⣿\u001b[39m\u001b[31m⣶\u001b[39m\u001b[31m⣿\u001b[39m\u001b[31m⢷\u001b[39m\u001b[0m⠀\u001b[0m⠀\u001b[0m⠀\u001b[0m⠀\u001b[0m⠀\u001b[0m⠀\u001b[0m⠀\u001b[0m⠀\u001b[0m⠀\u001b[0m⠀\u001b[0m⠀\u001b[0m⠀\u001b[0m⠀\u001b[0m⠀\u001b[0m⠀\u001b[0m⠀\u001b[0m⠀\u001b[0m⠀\u001b[0m⠀\u001b[0m⠀\u001b[0m⠀\u001b[0m⠀\u001b[0m⠀\u001b[0m⠀\u001b[0m⠀\u001b[90m│\u001b[39m    \n",
       "         \u001b[90m │\u001b[39m\u001b[0m⠀\u001b[0m⠀\u001b[0m⠀\u001b[0m⠀\u001b[35m⣿\u001b[39m\u001b[31m⢿\u001b[39m\u001b[31m⣿\u001b[39m\u001b[35m⣿\u001b[39m\u001b[35m⣿\u001b[39m\u001b[35m⣿\u001b[39m\u001b[35m⣿\u001b[39m\u001b[35m⣿\u001b[39m\u001b[35m⣿\u001b[39m\u001b[35m⣿\u001b[39m\u001b[35m⣿\u001b[39m\u001b[35m⣿\u001b[39m\u001b[31m⣿\u001b[39m\u001b[0m⠀\u001b[0m⠀\u001b[0m⠀\u001b[0m⠀\u001b[0m⠀\u001b[0m⠀\u001b[0m⠀\u001b[0m⠀\u001b[0m⠀\u001b[0m⠀\u001b[0m⠀\u001b[0m⠀\u001b[0m⠀\u001b[0m⠀\u001b[0m⠀\u001b[0m⠀\u001b[0m⠀\u001b[0m⠀\u001b[0m⠀\u001b[0m⠀\u001b[0m⠀\u001b[0m⠀\u001b[0m⠀\u001b[0m⠀\u001b[0m⠀\u001b[90m│\u001b[39m    \n",
       "         \u001b[90m │\u001b[39m\u001b[0m⠀\u001b[0m⠀\u001b[0m⠀\u001b[0m⠀\u001b[31m⠉\u001b[39m\u001b[35m⠉\u001b[39m\u001b[31m⠉\u001b[39m\u001b[31m⠉\u001b[39m\u001b[31m⣿\u001b[39m\u001b[35m⣿\u001b[39m\u001b[35m⣿\u001b[39m\u001b[35m⣿\u001b[39m\u001b[35m⣿\u001b[39m\u001b[35m⣿\u001b[39m\u001b[35m⣿\u001b[39m\u001b[35m⣿\u001b[39m\u001b[35m⣿\u001b[39m\u001b[31m⣶\u001b[39m\u001b[31m⣶\u001b[39m\u001b[31m⣶\u001b[39m\u001b[31m⣶\u001b[39m\u001b[0m⠀\u001b[0m⠀\u001b[0m⠀\u001b[0m⠀\u001b[0m⠀\u001b[0m⠀\u001b[0m⠀\u001b[0m⠀\u001b[0m⠀\u001b[0m⠀\u001b[0m⠀\u001b[0m⠀\u001b[0m⠀\u001b[0m⠀\u001b[0m⠀\u001b[0m⠀\u001b[0m⠀\u001b[0m⠀\u001b[0m⠀\u001b[0m⠀\u001b[0m⠀\u001b[90m│\u001b[39m    \n",
       "         \u001b[90m │\u001b[39m\u001b[0m⠀\u001b[0m⠀\u001b[0m⠀\u001b[0m⠀\u001b[0m⠀\u001b[0m⠀\u001b[0m⠀\u001b[0m⠀\u001b[31m⣼\u001b[39m\u001b[31m⣿\u001b[39m\u001b[35m⣿\u001b[39m\u001b[35m⣿\u001b[39m\u001b[35m⣿\u001b[39m\u001b[35m⣿\u001b[39m\u001b[35m⣿\u001b[39m\u001b[35m⣿\u001b[39m\u001b[35m⣿\u001b[39m\u001b[35m⡿\u001b[39m\u001b[35m⣿\u001b[39m\u001b[31m⣿\u001b[39m\u001b[31m⣿\u001b[39m\u001b[0m⠀\u001b[0m⠀\u001b[0m⠀\u001b[0m⠀\u001b[0m⠀\u001b[0m⠀\u001b[0m⠀\u001b[0m⠀\u001b[0m⠀\u001b[0m⠀\u001b[0m⠀\u001b[0m⠀\u001b[0m⠀\u001b[0m⠀\u001b[0m⠀\u001b[0m⠀\u001b[0m⠀\u001b[0m⠀\u001b[0m⠀\u001b[0m⠀\u001b[0m⠀\u001b[90m│\u001b[39m    \n",
       "         \u001b[90m │\u001b[39m\u001b[0m⠀\u001b[0m⠀\u001b[0m⠀\u001b[0m⠀\u001b[0m⠀\u001b[0m⠀\u001b[0m⠀\u001b[0m⠀\u001b[31m⠙\u001b[39m\u001b[31m⠓\u001b[39m\u001b[31m⠛\u001b[39m\u001b[31m⠛\u001b[39m\u001b[35m⢻\u001b[39m\u001b[35m⣿\u001b[39m\u001b[35m⣿\u001b[39m\u001b[35m⡿\u001b[39m\u001b[35m⣿\u001b[39m\u001b[35m⣿\u001b[39m\u001b[35m⣿\u001b[39m\u001b[35m⣿\u001b[39m\u001b[35m⣿\u001b[39m\u001b[31m⣶\u001b[39m\u001b[31m⣶\u001b[39m\u001b[31m⣴\u001b[39m\u001b[31m⣶\u001b[39m\u001b[31m⡄\u001b[39m\u001b[0m⠀\u001b[0m⠀\u001b[0m⠀\u001b[0m⠀\u001b[0m⠀\u001b[0m⠀\u001b[0m⠀\u001b[0m⠀\u001b[0m⠀\u001b[0m⠀\u001b[0m⠀\u001b[0m⠀\u001b[0m⠀\u001b[0m⠀\u001b[0m⠀\u001b[0m⠀\u001b[90m│\u001b[39m    \n",
       "         \u001b[90m │\u001b[39m\u001b[0m⠀\u001b[0m⠀\u001b[0m⠀\u001b[0m⠀\u001b[0m⠀\u001b[0m⠀\u001b[0m⠀\u001b[0m⠀\u001b[0m⠀\u001b[0m⠀\u001b[0m⠀\u001b[0m⠀\u001b[31m⢸\u001b[39m\u001b[31m⣿\u001b[39m\u001b[35m⣿\u001b[39m\u001b[35m⣿\u001b[39m\u001b[35m⣿\u001b[39m\u001b[35m⣿\u001b[39m\u001b[35m⣿\u001b[39m\u001b[35m⣿\u001b[39m\u001b[35m⣿\u001b[39m\u001b[31m⣿\u001b[39m\u001b[35m⣿\u001b[39m\u001b[35m⣿\u001b[39m\u001b[31m⣿\u001b[39m\u001b[31m⡅\u001b[39m\u001b[0m⠀\u001b[0m⠀\u001b[0m⠀\u001b[0m⠀\u001b[0m⠀\u001b[0m⠀\u001b[0m⠀\u001b[0m⠀\u001b[0m⠀\u001b[0m⠀\u001b[0m⠀\u001b[0m⠀\u001b[0m⠀\u001b[0m⠀\u001b[0m⠀\u001b[0m⠀\u001b[90m│\u001b[39m    \n",
       "         \u001b[90m │\u001b[39m\u001b[0m⠀\u001b[0m⠀\u001b[0m⠀\u001b[0m⠀\u001b[0m⠀\u001b[0m⠀\u001b[0m⠀\u001b[0m⠀\u001b[0m⠀\u001b[0m⠀\u001b[0m⠀\u001b[0m⠀\u001b[31m⠘\u001b[39m\u001b[31m⠛\u001b[39m\u001b[31m⠛\u001b[39m\u001b[31m⠛\u001b[39m\u001b[35m⢻\u001b[39m\u001b[35m⣿\u001b[39m\u001b[35m⣿\u001b[39m\u001b[35m⣿\u001b[39m\u001b[35m⣿\u001b[39m\u001b[35m⣿\u001b[39m\u001b[35m⣯\u001b[39m\u001b[35m⣿\u001b[39m\u001b[35m⣿\u001b[39m\u001b[35m⣧\u001b[39m\u001b[35m⣤\u001b[39m\u001b[31m⣤\u001b[39m\u001b[35m⣤\u001b[39m\u001b[31m⡄\u001b[39m\u001b[0m⠀\u001b[0m⠀\u001b[0m⠀\u001b[0m⠀\u001b[0m⠀\u001b[0m⠀\u001b[0m⠀\u001b[0m⠀\u001b[0m⠀\u001b[0m⠀\u001b[0m⠀\u001b[0m⠀\u001b[90m│\u001b[39m    \n",
       "         \u001b[90m │\u001b[39m\u001b[0m⠀\u001b[0m⠀\u001b[0m⠀\u001b[0m⠀\u001b[0m⠀\u001b[0m⠀\u001b[0m⠀\u001b[0m⠀\u001b[0m⠀\u001b[0m⠀\u001b[0m⠀\u001b[0m⠀\u001b[0m⠀\u001b[0m⠀\u001b[0m⠀\u001b[0m⠀\u001b[31m⢘\u001b[39m\u001b[31m⣿\u001b[39m\u001b[31m⣿\u001b[39m\u001b[35m⣿\u001b[39m\u001b[35m⣯\u001b[39m\u001b[35m⣿\u001b[39m\u001b[35m⣿\u001b[39m\u001b[35m⣿\u001b[39m\u001b[35m⣿\u001b[39m\u001b[35m⣿\u001b[39m\u001b[31m⣿\u001b[39m\u001b[31m⣿\u001b[39m\u001b[35m⣿\u001b[39m\u001b[35m⡇\u001b[39m\u001b[0m⠀\u001b[0m⠀\u001b[0m⠀\u001b[0m⠀\u001b[0m⠀\u001b[0m⠀\u001b[0m⠀\u001b[0m⠀\u001b[0m⠀\u001b[0m⠀\u001b[0m⠀\u001b[0m⠀\u001b[90m│\u001b[39m    \n",
       "         \u001b[90m │\u001b[39m\u001b[0m⠀\u001b[0m⠀\u001b[0m⠀\u001b[0m⠀\u001b[0m⠀\u001b[0m⠀\u001b[0m⠀\u001b[0m⠀\u001b[0m⠀\u001b[0m⠀\u001b[0m⠀\u001b[0m⠀\u001b[0m⠀\u001b[0m⠀\u001b[0m⠀\u001b[0m⠀\u001b[31m⠘\u001b[39m\u001b[31m⠿\u001b[39m\u001b[31m⠟\u001b[39m\u001b[31m⠿\u001b[39m\u001b[35m⠿\u001b[39m\u001b[35m⣿\u001b[39m\u001b[35m⣿\u001b[39m\u001b[35m⣿\u001b[39m\u001b[35m⣿\u001b[39m\u001b[35m⣿\u001b[39m\u001b[35m⣿\u001b[39m\u001b[35m⣿\u001b[39m\u001b[35m⣿\u001b[39m\u001b[31m⣧\u001b[39m\u001b[35m⣤\u001b[39m\u001b[31m⣤\u001b[39m\u001b[35m⣤\u001b[39m\u001b[31m⡄\u001b[39m\u001b[0m⠀\u001b[0m⠀\u001b[0m⠀\u001b[0m⠀\u001b[0m⠀\u001b[0m⠀\u001b[0m⠀\u001b[0m⠀\u001b[90m│\u001b[39m    \n",
       "         \u001b[90m │\u001b[39m\u001b[0m⠀\u001b[0m⠀\u001b[0m⠀\u001b[0m⠀\u001b[0m⠀\u001b[0m⠀\u001b[0m⠀\u001b[0m⠀\u001b[0m⠀\u001b[0m⠀\u001b[0m⠀\u001b[0m⠀\u001b[0m⠀\u001b[0m⠀\u001b[0m⠀\u001b[0m⠀\u001b[0m⠀\u001b[0m⠀\u001b[0m⠀\u001b[0m⠀\u001b[0m⠀\u001b[35m⣿\u001b[39m\u001b[31m⣿\u001b[39m\u001b[31m⣿\u001b[39m\u001b[35m⣿\u001b[39m\u001b[35m⣿\u001b[39m\u001b[35m⣿\u001b[39m\u001b[35m⣿\u001b[39m\u001b[35m⣿\u001b[39m\u001b[35m⣿\u001b[39m\u001b[35m⣿\u001b[39m\u001b[31m⣿\u001b[39m\u001b[31m⣷\u001b[39m\u001b[31m⡇\u001b[39m\u001b[0m⠀\u001b[0m⠀\u001b[0m⠀\u001b[0m⠀\u001b[0m⠀\u001b[0m⠀\u001b[0m⠀\u001b[0m⠀\u001b[90m│\u001b[39m    \n",
       "         \u001b[90m │\u001b[39m\u001b[0m⠀\u001b[0m⠀\u001b[0m⠀\u001b[0m⠀\u001b[0m⠀\u001b[0m⠀\u001b[0m⠀\u001b[0m⠀\u001b[0m⠀\u001b[0m⠀\u001b[0m⠀\u001b[0m⠀\u001b[0m⠀\u001b[0m⠀\u001b[0m⠀\u001b[0m⠀\u001b[0m⠀\u001b[0m⠀\u001b[0m⠀\u001b[0m⠀\u001b[0m⠀\u001b[35m⠿\u001b[39m\u001b[35m⠿\u001b[39m\u001b[35m⠿\u001b[39m\u001b[35m⠿\u001b[39m\u001b[35m⣿\u001b[39m\u001b[35m⣿\u001b[39m\u001b[35m⣿\u001b[39m\u001b[35m⣿\u001b[39m\u001b[35m⣿\u001b[39m\u001b[35m⣿\u001b[39m\u001b[35m⣿\u001b[39m\u001b[35m⣿\u001b[39m\u001b[35m⣧\u001b[39m\u001b[35m⣤\u001b[39m\u001b[31m⣀\u001b[39m\u001b[31m⣤\u001b[39m\u001b[31m⣄\u001b[39m\u001b[0m⠀\u001b[0m⠀\u001b[0m⠀\u001b[0m⠀\u001b[90m│\u001b[39m    \n",
       "         \u001b[90m │\u001b[39m\u001b[0m⠀\u001b[0m⠀\u001b[0m⠀\u001b[0m⠀\u001b[0m⠀\u001b[0m⠀\u001b[0m⠀\u001b[0m⠀\u001b[0m⠀\u001b[0m⠀\u001b[0m⠀\u001b[0m⠀\u001b[0m⠀\u001b[0m⠀\u001b[0m⠀\u001b[0m⠀\u001b[0m⠀\u001b[0m⠀\u001b[0m⠀\u001b[0m⠀\u001b[0m⠀\u001b[0m⠀\u001b[0m⠀\u001b[0m⠀\u001b[0m⠀\u001b[35m⣿\u001b[39m\u001b[35m⣿\u001b[39m\u001b[31m⣿\u001b[39m\u001b[35m⣿\u001b[39m\u001b[35m⣿\u001b[39m\u001b[35m⣿\u001b[39m\u001b[35m⣿\u001b[39m\u001b[35m⣿\u001b[39m\u001b[35m⣿\u001b[39m\u001b[35m⣿\u001b[39m\u001b[31m⣿\u001b[39m\u001b[35m⣿\u001b[39m\u001b[31m⣽\u001b[39m\u001b[0m⠀\u001b[0m⠀\u001b[0m⠀\u001b[0m⠀\u001b[90m│\u001b[39m    \n",
       "         \u001b[90m │\u001b[39m\u001b[0m⠀\u001b[0m⠀\u001b[0m⠀\u001b[0m⠀\u001b[0m⠀\u001b[0m⠀\u001b[0m⠀\u001b[0m⠀\u001b[0m⠀\u001b[0m⠀\u001b[0m⠀\u001b[0m⠀\u001b[0m⠀\u001b[0m⠀\u001b[0m⠀\u001b[0m⠀\u001b[0m⠀\u001b[0m⠀\u001b[0m⠀\u001b[0m⠀\u001b[0m⠀\u001b[0m⠀\u001b[0m⠀\u001b[0m⠀\u001b[0m⠀\u001b[35m⠿\u001b[39m\u001b[31m⠽\u001b[39m\u001b[31m⠿\u001b[39m\u001b[35m⠿\u001b[39m\u001b[35m⣿\u001b[39m\u001b[35m⣿\u001b[39m\u001b[35m⣿\u001b[39m\u001b[35m⣿\u001b[39m\u001b[35m⣿\u001b[39m\u001b[35m⣿\u001b[39m\u001b[35m⣿\u001b[39m\u001b[35m⣿\u001b[39m\u001b[35m⣿\u001b[39m\u001b[31m⣀\u001b[39m\u001b[31m⣀\u001b[39m\u001b[31m⣀\u001b[39m\u001b[31m⣀\u001b[39m\u001b[90m│\u001b[39m    \n",
       "         \u001b[90m │\u001b[39m\u001b[0m⠀\u001b[0m⠀\u001b[0m⠀\u001b[0m⠀\u001b[0m⠀\u001b[0m⠀\u001b[0m⠀\u001b[0m⠀\u001b[0m⠀\u001b[0m⠀\u001b[0m⠀\u001b[0m⠀\u001b[0m⠀\u001b[0m⠀\u001b[0m⠀\u001b[0m⠀\u001b[0m⠀\u001b[0m⠀\u001b[0m⠀\u001b[0m⠀\u001b[0m⠀\u001b[0m⠀\u001b[0m⠀\u001b[0m⠀\u001b[0m⠀\u001b[0m⠀\u001b[0m⠀\u001b[0m⠀\u001b[0m⠀\u001b[35m⢻\u001b[39m\u001b[35m⣿\u001b[39m\u001b[31m⣿\u001b[39m\u001b[35m⣿\u001b[39m\u001b[35m⣿\u001b[39m\u001b[35m⣿\u001b[39m\u001b[35m⣿\u001b[39m\u001b[35m⣿\u001b[39m\u001b[35m⣿\u001b[39m\u001b[35m⣿\u001b[39m\u001b[35m⣿\u001b[39m\u001b[35m⣿\u001b[39m\u001b[31m⣿\u001b[39m\u001b[90m│\u001b[39m    \n",
       "         \u001b[90m │\u001b[39m\u001b[0m⠀\u001b[0m⠀\u001b[0m⠀\u001b[0m⠀\u001b[0m⠀\u001b[0m⠀\u001b[0m⠀\u001b[0m⠀\u001b[0m⠀\u001b[0m⠀\u001b[0m⠀\u001b[0m⠀\u001b[0m⠀\u001b[0m⠀\u001b[0m⠀\u001b[0m⠀\u001b[0m⠀\u001b[0m⠀\u001b[0m⠀\u001b[0m⠀\u001b[0m⠀\u001b[0m⠀\u001b[0m⠀\u001b[0m⠀\u001b[0m⠀\u001b[0m⠀\u001b[0m⠀\u001b[0m⠀\u001b[0m⠀\u001b[31m⢿\u001b[39m\u001b[35m⣟\u001b[39m\u001b[31m⣿\u001b[39m\u001b[31m⣿\u001b[39m\u001b[35m⣿\u001b[39m\u001b[35m⣿\u001b[39m\u001b[35m⣿\u001b[39m\u001b[35m⣿\u001b[39m\u001b[35m⣿\u001b[39m\u001b[35m⣯\u001b[39m\u001b[35m⣿\u001b[39m\u001b[35m⣿\u001b[39m\u001b[31m⣿\u001b[39m\u001b[90m│\u001b[39m    \n",
       "         \u001b[90m │\u001b[39m\u001b[0m⠀\u001b[0m⠀\u001b[0m⠀\u001b[0m⠀\u001b[0m⠀\u001b[0m⠀\u001b[0m⠀\u001b[0m⠀\u001b[0m⠀\u001b[0m⠀\u001b[0m⠀\u001b[0m⠀\u001b[0m⠀\u001b[0m⠀\u001b[0m⠀\u001b[0m⠀\u001b[0m⠀\u001b[0m⠀\u001b[0m⠀\u001b[0m⠀\u001b[0m⠀\u001b[0m⠀\u001b[0m⠀\u001b[0m⠀\u001b[0m⠀\u001b[0m⠀\u001b[0m⠀\u001b[0m⠀\u001b[0m⠀\u001b[0m⠀\u001b[0m⠀\u001b[0m⠀\u001b[0m⠀\u001b[31m⢸\u001b[39m\u001b[35m⣿\u001b[39m\u001b[35m⣿\u001b[39m\u001b[35m⣯\u001b[39m\u001b[35m⣿\u001b[39m\u001b[35m⣿\u001b[39m\u001b[35m⣿\u001b[39m\u001b[35m⣿\u001b[39m\u001b[35m⣿\u001b[39m\u001b[90m│\u001b[39m    \n",
       "   \u001b[90m287993\u001b[39m\u001b[90m │\u001b[39m\u001b[0m⠀\u001b[0m⠀\u001b[0m⠀\u001b[0m⠀\u001b[0m⠀\u001b[0m⠀\u001b[0m⠀\u001b[0m⠀\u001b[0m⠀\u001b[0m⠀\u001b[0m⠀\u001b[0m⠀\u001b[0m⠀\u001b[0m⠀\u001b[0m⠀\u001b[0m⠀\u001b[0m⠀\u001b[0m⠀\u001b[0m⠀\u001b[0m⠀\u001b[0m⠀\u001b[0m⠀\u001b[0m⠀\u001b[0m⠀\u001b[0m⠀\u001b[0m⠀\u001b[0m⠀\u001b[0m⠀\u001b[0m⠀\u001b[0m⠀\u001b[0m⠀\u001b[0m⠀\u001b[0m⠀\u001b[31m⢸\u001b[39m\u001b[35m⣿\u001b[39m\u001b[31m⣿\u001b[39m\u001b[31m⣿\u001b[39m\u001b[35m⣿\u001b[39m\u001b[35m⣿\u001b[39m\u001b[35m⣿\u001b[39m\u001b[35m⣿\u001b[39m\u001b[35m⣿\u001b[39m\u001b[90m│\u001b[39m    \n",
       "\u001b[90m          └──────────────────────────────────────────┘\u001b[39m    \n",
       "\u001b[90m          1\u001b[39m\u001b[90m                    \u001b[39m\u001b[90m                 287993\u001b[39m\n",
       "\u001b[0m                          nz = 952114"
      ]
     },
     "execution_count": 9,
     "metadata": {},
     "output_type": "execute_result"
    }
   ],
   "source": [
    "import UnicodePlots\n",
    "UnicodePlots.spy(edges)\n",
    "# Weird! Lots of totally disconencted sites. \n"
   ]
  },
  {
   "cell_type": "code",
   "execution_count": 12,
   "metadata": {},
   "outputs": [
    {
     "data": {
      "text/plain": [
       "389682-element Array{Float64,1}:\n",
       " 0.003906563413131804\n",
       " 0.0019025049131759042\n",
       " 0.0020053429873391274\n",
       " 0.00027922441805006766\n",
       " 8.183821615142826e-5\n",
       " 0.000126884201545874\n",
       " 0.0008960333874719448\n",
       " 0.0005180684897168235\n",
       " 0.0013230110523249521\n",
       " 0.06181819833974715\n",
       " 0.001442983256075044\n",
       " 0.0007878199688843761\n",
       " 0.00027072505180872114\n",
       " ⋮\n",
       " 0.013563577598186117\n",
       " 0.00012229530480165665\n",
       " 0.0007579566008217437\n",
       " 0.0001089670573650842\n",
       " 9.235847280170667e-5\n",
       " 0.0007535115174064966\n",
       " 0.004602456823005092\n",
       " 0.0006222608450216062\n",
       " 0.0002798794858119181\n",
       " 9.994456592083383e-5\n",
       " 0.0634448304153311\n",
       " 0.0005446631268049394"
      ]
     },
     "execution_count": 12,
     "metadata": {},
     "output_type": "execute_result"
    }
   ],
   "source": [
    "# let's have a look at the Inter (small) Js\n",
    "smallJs=[J for J in Js if J<0.9] # small Js"
   ]
  },
  {
   "cell_type": "code",
   "execution_count": 30,
   "metadata": {},
   "outputs": [
    {
     "data": {
      "text/plain": [
       "\u001b[90m                ┌                                        ┐\u001b[39m \n",
       "   \u001b[0m\u001b[90m[\u001b[0m-6.4\u001b[90m, \u001b[0m-6.2\u001b[90m)\u001b[0m\u001b[90m ┤\u001b[39m\u001b[0m 2                                      \u001b[90m \u001b[39m \n",
       "   \u001b[0m\u001b[90m[\u001b[0m-6.2\u001b[90m, \u001b[0m-6.0\u001b[90m)\u001b[0m\u001b[90m ┤\u001b[39m\u001b[0m 2                                      \u001b[90m \u001b[39m \n",
       "   \u001b[0m\u001b[90m[\u001b[0m-6.0\u001b[90m, \u001b[0m-5.8\u001b[90m)\u001b[0m\u001b[90m ┤\u001b[39m\u001b[0m 10                                     \u001b[90m \u001b[39m \n",
       "   \u001b[0m\u001b[90m[\u001b[0m-5.8\u001b[90m, \u001b[0m-5.6\u001b[90m)\u001b[0m\u001b[90m ┤\u001b[39m\u001b[0m 34                                     \u001b[90m \u001b[39m \n",
       "   \u001b[0m\u001b[90m[\u001b[0m-5.6\u001b[90m, \u001b[0m-5.4\u001b[90m)\u001b[0m\u001b[90m ┤\u001b[39m\u001b[0m 82                                     \u001b[90m \u001b[39m \n",
       "   \u001b[0m\u001b[90m[\u001b[0m-5.4\u001b[90m, \u001b[0m-5.2\u001b[90m)\u001b[0m\u001b[90m ┤\u001b[39m\u001b[0m 174                                    \u001b[90m \u001b[39m \n",
       "   \u001b[0m\u001b[90m[\u001b[0m-5.2\u001b[90m, \u001b[0m-5.0\u001b[90m)\u001b[0m\u001b[90m ┤\u001b[39m\u001b[0m 522                                    \u001b[90m \u001b[39m \n",
       "   \u001b[0m\u001b[90m[\u001b[0m-5.0\u001b[90m, \u001b[0m-4.8\u001b[90m)\u001b[0m\u001b[90m ┤\u001b[39m\u001b[32m▇\u001b[39m\u001b[0m 1062                                  \u001b[90m \u001b[39m \n",
       "   \u001b[0m\u001b[90m[\u001b[0m-4.8\u001b[90m, \u001b[0m-4.6\u001b[90m)\u001b[0m\u001b[90m ┤\u001b[39m\u001b[32m▇▇\u001b[39m\u001b[0m 2194                                 \u001b[90m \u001b[39m \n",
       "   \u001b[0m\u001b[90m[\u001b[0m-4.6\u001b[90m, \u001b[0m-4.4\u001b[90m)\u001b[0m\u001b[90m ┤\u001b[39m\u001b[32m▇▇▇\u001b[39m\u001b[0m 4602                                \u001b[90m \u001b[39m \n",
       "   \u001b[0m\u001b[90m[\u001b[0m-4.4\u001b[90m, \u001b[0m-4.2\u001b[90m)\u001b[0m\u001b[90m ┤\u001b[39m\u001b[32m▇▇▇▇▇▇\u001b[39m\u001b[0m 8158                             \u001b[90m \u001b[39m \n",
       "   \u001b[0m\u001b[90m[\u001b[0m-4.2\u001b[90m, \u001b[0m-4.0\u001b[90m)\u001b[0m\u001b[90m ┤\u001b[39m\u001b[32m▇▇▇▇▇▇▇▇▇▇\u001b[39m\u001b[0m 13208                        \u001b[90m \u001b[39m \n",
       "   \u001b[0m\u001b[90m[\u001b[0m-4.0\u001b[90m, \u001b[0m-3.8\u001b[90m)\u001b[0m\u001b[90m ┤\u001b[39m\u001b[32m▇▇▇▇▇▇▇▇▇▇▇▇▇▇▇\u001b[39m\u001b[0m 19482                   \u001b[90m \u001b[39m \n",
       "   \u001b[0m\u001b[90m[\u001b[0m-3.8\u001b[90m, \u001b[0m-3.6\u001b[90m)\u001b[0m\u001b[90m ┤\u001b[39m\u001b[32m▇▇▇▇▇▇▇▇▇▇▇▇▇▇▇▇▇▇▇▇\u001b[39m\u001b[0m 26848              \u001b[90m \u001b[39m \n",
       "   \u001b[0m\u001b[90m[\u001b[0m-3.6\u001b[90m, \u001b[0m-3.4\u001b[90m)\u001b[0m\u001b[90m ┤\u001b[39m\u001b[32m▇▇▇▇▇▇▇▇▇▇▇▇▇▇▇▇▇▇▇▇▇▇▇▇▇▇\u001b[39m\u001b[0m 34636        \u001b[90m \u001b[39m \n",
       "   \u001b[0m\u001b[90m[\u001b[0m-3.4\u001b[90m, \u001b[0m-3.2\u001b[90m)\u001b[0m\u001b[90m ┤\u001b[39m\u001b[32m▇▇▇▇▇▇▇▇▇▇▇▇▇▇▇▇▇▇▇▇▇▇▇▇▇▇▇▇▇▇▇\u001b[39m\u001b[0m 40818   \u001b[90m \u001b[39m \n",
       "   \u001b[0m\u001b[90m[\u001b[0m-3.2\u001b[90m, \u001b[0m-3.0\u001b[90m)\u001b[0m\u001b[90m ┤\u001b[39m\u001b[32m▇▇▇▇▇▇▇▇▇▇▇▇▇▇▇▇▇▇▇▇▇▇▇▇▇▇▇▇▇▇▇▇▇\u001b[39m\u001b[0m 43818 \u001b[90m \u001b[39m \n",
       "   \u001b[0m\u001b[90m[\u001b[0m-3.0\u001b[90m, \u001b[0m-2.8\u001b[90m)\u001b[0m\u001b[90m ┤\u001b[39m\u001b[32m▇▇▇▇▇▇▇▇▇▇▇▇▇▇▇▇▇▇▇▇▇▇▇▇▇▇▇▇▇▇▇▇▇\u001b[39m\u001b[0m 43798 \u001b[90m \u001b[39m \n",
       "   \u001b[0m\u001b[90m[\u001b[0m-2.8\u001b[90m, \u001b[0m-2.6\u001b[90m)\u001b[0m\u001b[90m ┤\u001b[39m\u001b[32m▇▇▇▇▇▇▇▇▇▇▇▇▇▇▇▇▇▇▇▇▇▇▇▇▇▇▇▇▇▇\u001b[39m\u001b[0m 40000    \u001b[90m \u001b[39m \n",
       "   \u001b[0m\u001b[90m[\u001b[0m-2.6\u001b[90m, \u001b[0m-2.4\u001b[90m)\u001b[0m\u001b[90m ┤\u001b[39m\u001b[32m▇▇▇▇▇▇▇▇▇▇▇▇▇▇▇▇▇▇▇▇▇▇▇▇▇▇\u001b[39m\u001b[0m 34528        \u001b[90m \u001b[39m \n",
       "   \u001b[0m\u001b[90m[\u001b[0m-2.4\u001b[90m, \u001b[0m-2.2\u001b[90m)\u001b[0m\u001b[90m ┤\u001b[39m\u001b[32m▇▇▇▇▇▇▇▇▇▇▇▇▇▇▇▇▇▇▇▇\u001b[39m\u001b[0m 26686              \u001b[90m \u001b[39m \n",
       "   \u001b[0m\u001b[90m[\u001b[0m-2.2\u001b[90m, \u001b[0m-2.0\u001b[90m)\u001b[0m\u001b[90m ┤\u001b[39m\u001b[32m▇▇▇▇▇▇▇▇▇▇▇▇▇▇\u001b[39m\u001b[0m 19186                    \u001b[90m \u001b[39m \n",
       "   \u001b[0m\u001b[90m[\u001b[0m-2.0\u001b[90m, \u001b[0m-1.8\u001b[90m)\u001b[0m\u001b[90m ┤\u001b[39m\u001b[32m▇▇▇▇▇▇▇▇▇▇\u001b[39m\u001b[0m 12926                        \u001b[90m \u001b[39m \n",
       "   \u001b[0m\u001b[90m[\u001b[0m-1.8\u001b[90m, \u001b[0m-1.6\u001b[90m)\u001b[0m\u001b[90m ┤\u001b[39m\u001b[32m▇▇▇▇▇▇\u001b[39m\u001b[0m 7978                             \u001b[90m \u001b[39m \n",
       "   \u001b[0m\u001b[90m[\u001b[0m-1.6\u001b[90m, \u001b[0m-1.4\u001b[90m)\u001b[0m\u001b[90m ┤\u001b[39m\u001b[32m▇▇▇\u001b[39m\u001b[0m 4468                                \u001b[90m \u001b[39m \n",
       "   \u001b[0m\u001b[90m[\u001b[0m-1.4\u001b[90m, \u001b[0m-1.2\u001b[90m)\u001b[0m\u001b[90m ┤\u001b[39m\u001b[32m▇▇\u001b[39m\u001b[0m 2454                                 \u001b[90m \u001b[39m \n",
       "   \u001b[0m\u001b[90m[\u001b[0m-1.2\u001b[90m, \u001b[0m-1.0\u001b[90m)\u001b[0m\u001b[90m ┤\u001b[39m\u001b[32m▇\u001b[39m\u001b[0m 1162                                  \u001b[90m \u001b[39m \n",
       "   \u001b[0m\u001b[90m[\u001b[0m-1.0\u001b[90m, \u001b[0m-0.8\u001b[90m)\u001b[0m\u001b[90m ┤\u001b[39m\u001b[0m 526                                    \u001b[90m \u001b[39m \n",
       "   \u001b[0m\u001b[90m[\u001b[0m-0.8\u001b[90m, \u001b[0m-0.6\u001b[90m)\u001b[0m\u001b[90m ┤\u001b[39m\u001b[0m 196                                    \u001b[90m \u001b[39m \n",
       "   \u001b[0m\u001b[90m[\u001b[0m-0.6\u001b[90m, \u001b[0m-0.4\u001b[90m)\u001b[0m\u001b[90m ┤\u001b[39m\u001b[0m 80                                     \u001b[90m \u001b[39m \n",
       "   \u001b[0m\u001b[90m[\u001b[0m-0.4\u001b[90m, \u001b[0m-0.2\u001b[90m)\u001b[0m\u001b[90m ┤\u001b[39m\u001b[0m 32                                     \u001b[90m \u001b[39m \n",
       "   \u001b[0m\u001b[90m[\u001b[0m-0.2\u001b[90m, \u001b[0m-0.0\u001b[90m)\u001b[0m\u001b[90m ┤\u001b[39m\u001b[0m 10                                     \u001b[90m \u001b[39m \n",
       "\u001b[90m                └                                        ┘\u001b[39m \n",
       "\u001b[0m                                Frequency"
      ]
     },
     "execution_count": 30,
     "metadata": {},
     "output_type": "execute_result"
    }
   ],
   "source": [
    "UnicodePlots.histogram(log10.(smallJs), nbins=30)"
   ]
  },
  {
   "cell_type": "code",
   "execution_count": 55,
   "metadata": {},
   "outputs": [
    {
     "data": {
      "text/plain": [
       "287993×287993 SparseMatrixCSC{Float64,Int64} with 1240107 stored entries:\n",
       "  [1     ,      1]  =  -3.3452\n",
       "  [2     ,      1]  =  3.3452\n",
       "  [1     ,      2]  =  3.3452\n",
       "  [2     ,      2]  =  -6.69039\n",
       "  [3     ,      2]  =  3.3452\n",
       "  [2     ,      3]  =  3.3452\n",
       "  [3     ,      3]  =  -6.69039\n",
       "  [4     ,      3]  =  3.3452\n",
       "  [3     ,      4]  =  3.3452\n",
       "  [4     ,      4]  =  -6.69039\n",
       "  [5     ,      4]  =  3.3452\n",
       "  [4     ,      5]  =  3.3452\n",
       "  ⋮\n",
       "  [287989, 287990]  =  3.3452\n",
       "  [287990, 287990]  =  -6.69039\n",
       "  [287991, 287990]  =  3.3452\n",
       "  [287990, 287991]  =  3.3452\n",
       "  [287991, 287991]  =  -6.69039\n",
       "  [287992, 287991]  =  3.3452\n",
       "  [287991, 287992]  =  3.3452\n",
       "  [287992, 287992]  =  -6.69039\n",
       "  [287993, 287992]  =  3.3452\n",
       "  [277576, 287993]  =  0.0134652\n",
       "  [277577, 287993]  =  9.92379e-7\n",
       "  [287992, 287993]  =  3.3452\n",
       "  [287993, 287993]  =  -3.35866"
      ]
     },
     "execution_count": 55,
     "metadata": {},
     "output_type": "execute_result"
    }
   ],
   "source": [
    "rates=Raven.ratematrix(edges,Raven.rateMarcus)"
   ]
  },
  {
   "cell_type": "code",
   "execution_count": null,
   "metadata": {},
   "outputs": [],
   "source": []
  },
  {
   "cell_type": "code",
   "execution_count": 56,
   "metadata": {},
   "outputs": [
    {
     "ename": "InterruptException",
     "evalue": "InterruptException:",
     "output_type": "error",
     "traceback": [
      "InterruptException:",
      "",
      "Stacktrace:",
      " [1] copy at ./array.jl:352 [inlined]",
      " [2] unaliascopy at ./abstractarray.jl:1170 [inlined]",
      " [3] unaliascopy at /Users/julia/buildbot/worker/package_macos64/build/usr/share/julia/stdlib/v1.4/SparseArrays/src/sparsevector.jl:103 [inlined]",
      " [4] unalias at ./abstractarray.jl:1154 [inlined]",
      " [5] #1 at /Users/julia/buildbot/worker/package_macos64/build/usr/share/julia/stdlib/v1.4/SparseArrays/src/higherorderfns.jl:1034 [inlined]",
      " [6] map at ./tuple.jl:159 [inlined]",
      " [7] copyto! at /Users/julia/buildbot/worker/package_macos64/build/usr/share/julia/stdlib/v1.4/SparseArrays/src/higherorderfns.jl:1034 [inlined]",
      " [8] materialize! at ./broadcast.jl:823 [inlined]",
      " [9] iterate(::IterativeSolvers.CGIterable{SparseMatrixCSC{Float64,Int64},SparseVector{Float64,Int64},SparseVector{Float64,Int64},Float64}, ::Int64) at /Users/jarvist/.julia/packages/IterativeSolvers/3g7hG/src/cg.jl:55",
      " [10] iterate at ./iterators.jl:139 [inlined]",
      " [11] cg!(::SparseVector{Float64,Int64}, ::SparseMatrixCSC{Float64,Int64}, ::SparseVector{Float64,Int64}; tol::Float64, maxiter::Int64, log::Bool, statevars::IterativeSolvers.CGStateVariables{Float64,SparseVector{Float64,Int64}}, verbose::Bool, Pl::IterativeSolvers.Identity, kwargs::Base.Iterators.Pairs{Symbol,Bool,Tuple{Symbol},NamedTuple{(:initially_zero,),Tuple{Bool}}}) at /Users/jarvist/.julia/packages/IterativeSolvers/3g7hG/src/cg.jl:224",
      " [12] #cg#22 at /Users/jarvist/.julia/packages/IterativeSolvers/3g7hG/src/cg.jl:161 [inlined]",
      " [13] cg(::SparseMatrixCSC{Float64,Int64}, ::SparseVector{Float64,Int64}) at /Users/jarvist/.julia/packages/IterativeSolvers/3g7hG/src/cg.jl:161",
      " [14] top-level scope at In[56]:2"
     ]
    }
   ],
   "source": [
    "import IterativeSolvers\n",
    "IterativeSolvers.cg(rates, SparseArrays.sparsevec(rates*ones(rates.m)))"
   ]
  },
  {
   "cell_type": "markdown",
   "metadata": {},
   "source": [
    "# That actually looks fairly sensible! Given that all sites are iso energetic. Took a few minutes to run, but only 400 mb of memory consumed or so."
   ]
  },
  {
   "cell_type": "code",
   "execution_count": 59,
   "metadata": {},
   "outputs": [],
   "source": [
    "using Gnuplot"
   ]
  },
  {
   "cell_type": "code",
   "execution_count": 60,
   "metadata": {},
   "outputs": [
    {
     "name": "stdout",
     "output_type": "stream",
     "text": [
      "\u001b[36mGNUPLOT (default) -> Warning: slow font initialization\u001b[39m\n",
      "\u001b[36mGNUPLOT (default) -> Error: plot window (gnuplot_qt) not responding - will restart\u001b[39m\n"
     ]
    }
   ],
   "source": [
    "@gp smallJs"
   ]
  },
  {
   "cell_type": "code",
   "execution_count": null,
   "metadata": {},
   "outputs": [],
   "source": []
  }
 ],
 "metadata": {
  "kernelspec": {
   "display_name": "Julia 1.4.2",
   "language": "julia",
   "name": "julia-1.4"
  },
  "language_info": {
   "file_extension": ".jl",
   "mimetype": "application/julia",
   "name": "julia",
   "version": "1.4.2"
  }
 },
 "nbformat": 4,
 "nbformat_minor": 2
}
